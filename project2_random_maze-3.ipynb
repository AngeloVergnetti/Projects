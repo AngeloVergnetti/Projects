{
 "cells": [
  {
   "cell_type": "markdown",
   "metadata": {},
   "source": [
    "# Math 124 - Programming for Mathematical Applications\n",
    "UC Berkeley, Spring 2021\n",
    "\n",
    "## Project 2 - Random Maze\n",
    "Due Friday, February 24"
   ]
  },
  {
   "cell_type": "markdown",
   "metadata": {},
   "source": [
    "### Description\n",
    "\n",
    "In this project, you will write a computer code to generate a random maze using a recursive algorithm. You will also write a code to find a path between two points in a given maze.\n",
    "\n",
    "The integer `n` specifies the size of the `n`-by-`n` array of cells in the maze.\n",
    "\n",
    "The horizontal and the vertical *interior* walls of the maze are described by the arrays:\n",
    "\n",
    "- `H`, Bool array of size `n`-by-`n-1`\n",
    "- `V`, Bool array of size `n-1`-by-`n`\n",
    "\n",
    "These arrays specify if there is a wall or not between two neighboring cells.\n",
    "\n",
    "An example is given below:"
   ]
  },
  {
   "cell_type": "code",
   "execution_count": 1,
   "metadata": {},
   "outputs": [],
   "source": [
    "H = Bool[0 1 0 0 0; 1 0 1 0 0; 0 1 1 0 0; 1 1 1 0 1; 0 1 0 1 1; 1 0 0 0 0];\n",
    "V = Bool[1 0 1 1 1 0; 0 1 0 0 1 1; 0 0 0 0 1 0; 0 1 0 1 0 0; 0 0 1 0 1 0];"
   ]
  },
  {
   "cell_type": "markdown",
   "metadata": {},
   "source": [
    "and the following helper function can be used to plot the maze:"
   ]
  },
  {
   "cell_type": "code",
   "execution_count": 2,
   "metadata": {},
   "outputs": [
    {
     "data": {
      "text/plain": [
       "plot_maze (generic function with 1 method)"
      ]
     },
     "execution_count": 2,
     "metadata": {},
     "output_type": "execute_result"
    }
   ],
   "source": [
    "using PyPlot, Random\n",
    "\n",
    "function plot_maze(H,V)\n",
    "    clf()\n",
    "    axis(\"off\")\n",
    "    axis(\"equal\")\n",
    "    n = size(H,1)\n",
    "    plot([0,n,n,0,0], [0,0,n,n,0], color=\"k\")\n",
    "    \n",
    "    for x = 1:n-1, y = 1:n\n",
    "        if V[x,y]\n",
    "            plot([x,x], [y-1,y], color=\"k\")\n",
    "        end\n",
    "    end\n",
    "    for x = 1:n, y = 1:n-1\n",
    "        if H[x,y]\n",
    "            plot([x-1,x], [y,y], color=\"k\")\n",
    "        end\n",
    "    end\n",
    "end"
   ]
  },
  {
   "cell_type": "code",
   "execution_count": 3,
   "metadata": {},
   "outputs": [
    {
     "data": {
      "image/png": "[encoded data removed]",
      "text/plain": [
       "Figure(PyObject <Figure size 640x480 with 1 Axes>)"
      ]
     },
     "metadata": {},
     "output_type": "display_data"
    }
   ],
   "source": [
    "plot_maze(H,V)"
   ]
  },
  {
   "cell_type": "markdown",
   "metadata": {},
   "source": [
    "In addition, we will find paths between the points `1,n` and `n,1`, which can be stored in two arrays of integers. For the example above, this path is given by"
   ]
  },
  {
   "cell_type": "code",
   "execution_count": 4,
   "metadata": {},
   "outputs": [],
   "source": [
    "x = [6, 5, 5, 6, 6, 6, 6, 6, 5, 4, 3, 3, 3, 2, 2, 2, 1];\n",
    "y = [1, 1, 2, 2, 3, 4, 5, 6, 6, 6, 6, 5, 4, 4, 5, 6, 6];"
   ]
  },
  {
   "cell_type": "markdown",
   "metadata": {},
   "source": [
    "and it can be plotted along with the maze using the commands:"
   ]
  },
  {
   "cell_type": "code",
   "execution_count": 5,
   "metadata": {},
   "outputs": [
    {
     "data": {
      "image/png": "[encoded data removed]",
      "text/plain": [
       "Figure(PyObject <Figure size 640x480 with 1 Axes>)"
      ]
     },
     "metadata": {},
     "output_type": "display_data"
    }
   ],
   "source": [
    "plot_maze(H,V);\n",
    "plot(x .- 0.5, y .- 0.5, color=\"r\", linewidth=4);"
   ]
  },
  {
   "cell_type": "markdown",
   "metadata": {},
   "source": [
    "### Problem 1 - Generate random maze\n",
    "\n",
    "Write a function with the syntax\n",
    "\n",
    "```julia\n",
    "H,V = make_maze(n)\n",
    "```\n",
    "\n",
    "which produces a random maze of size `n`-by-`n` using the following algorithm:\n",
    "\n",
    "1. Initialize `H` and `V` to matrices of `trues` (that is, assume all cells have walls on all sides)\n",
    "2. Also initialize an array `visit` to a matrix of `falses`, to keep track of cells that have been visited\n",
    "3. Create a function `dig(x,y)` which loops over the four directions (Right, Left, Up, Down) in a random order. For each direction, if the neighbor cell is valid and not visited, remove the corresponding wall from `H` or `V` and run the `dig` function recursively on the neighbor cell.\n",
    "4. Call `dig(1,1)` and return `H,V`"
   ]
  },
  {
   "cell_type": "code",
   "execution_count": 6,
   "metadata": {},
   "outputs": [
    {
     "data": {
      "image/png": "[encoded data removed]",
      "text/plain": [
       "Figure(PyObject <Figure size 640x480 with 1 Axes>)"
      ]
     },
     "metadata": {},
     "output_type": "display_data"
    }
   ],
   "source": [
    "using PyPlot, Random\n",
    "\n",
    "function make_maze(n)\n",
    "    \n",
    "    H = trues(n,n-1)\n",
    "    V = trues(n-1,n)\n",
    "    visit = falses(n,n)\n",
    "    \n",
    "    function dig(x,y)\n",
    "        visit[x,y] = true\n",
    "        \n",
    "        #println(\"visiting cell $x, $y\")\n",
    "        \n",
    "        r = randperm(4)\n",
    "        for i = 1:4\n",
    "        \n",
    "            \n",
    "        if r[i] == 1 && y < n && visit[x, y + 1] == false #north\n",
    "            H[x,y] = false\n",
    "            dig(x,y+1)\n",
    "        elseif r[i] == 2 && x < n && visit[x+1, y] == false #east\n",
    "            V[x,y] = false\n",
    "            dig(x+1,y)\n",
    "        elseif r[i] == 3 && y > 1 && visit[x, y-1] == false #south\n",
    "            H[x,y-1] = false\n",
    "            dig(x,y-1)\n",
    "        elseif r[i] == 4 && x > 1 && visit[x - 1, y] == false #west\n",
    "            V[x-1,y] = false\n",
    "            dig(x-1,y)\n",
    "        end\n",
    "        end\n",
    "    end\n",
    "    dig(1,1)\n",
    "    H,V\n",
    "end\n",
    "H,V = make_maze(3)\n",
    "plot_maze(H,V)"
   ]
  },
  {
   "cell_type": "markdown",
   "metadata": {},
   "source": [
    "### Problem 2 - Find path from `1,n` to `n,1`\n",
    "\n",
    "Next, write a function with the syntax\n",
    "\n",
    "```julia\n",
    "pathx, pathy = find_path(H,V)\n",
    "```\n",
    "\n",
    "which finds a path in the maze `H,V` between the coordinates `1,n` and `n,1` using the following algorithm:\n",
    "\n",
    "1. Again create an array `visit` to keep track of visited cells\n",
    "2. Also initialize empty vectors `pathx,pathy` to store the final path\n",
    "3. Create a recursive function `recur(x,y)` which performs the following:\n",
    "   1. If the position `x==n` and `y==1` is found, insert these values into `pathx,pathy` and return `true`\n",
    "   2. Otherwise, consider each neighbor of `x,y`. If the cell is valid, the maze has no wall in that direction, and the cell has not been visited, apply `recur` to the neighbor cell.\n",
    "   3. If any of the calls to `recur` returns `true`, insert `x,y` into `pathx,pathy` and return `true`\n",
    "4. Call `recur(1,n)` and return `pathx,path`"
   ]
  },
  {
   "cell_type": "code",
   "execution_count": 74,
   "metadata": {},
   "outputs": [
    {
     "data": {
      "text/plain": [
       "([25, 25, 24, 24, 24, 23, 23, 23, 23, 22  …  3, 3, 2, 2, 1, 1, 1, 2, 2, 1], [1, 2, 2, 3, 4, 4, 3, 2, 1, 1  …  22, 21, 21, 22, 22, 23, 24, 24, 25, 25])"
      ]
     },
     "execution_count": 74,
     "metadata": {},
     "output_type": "execute_result"
    }
   ],
   "source": [
    "function find_path(H,V)\n",
    "    n = (size(H,1))\n",
    "    visit = falses(n,n)\n",
    "    pathx = Int[]\n",
    "    pathy = Int[]\n",
    "    \n",
    "    function recur(x,y)\n",
    "        \n",
    "        visit[x,y] = true\n",
    "\n",
    "        if x == (n) && y == 1\n",
    "            push!(pathx, n)\n",
    "            push!(pathy, 1)\n",
    "        return true\n",
    "        end\n",
    "\n",
    "        if (y > 1) && (visit[x,y-1] == false) #south\n",
    "            if (H[x,y-1] == false)\n",
    "                if recur(x,y-1) == true\n",
    "                    push!(pathx,x)\n",
    "                    push!(pathy,y)\n",
    "                return true\n",
    "                end\n",
    "            end\n",
    "        end\n",
    "        \n",
    "        if (x > 1) && (visit[x-1,y] == false) #west\n",
    "            if (V[x-1,y] == false)\n",
    "                if recur(x-1,y) == true\n",
    "                    push!(pathx,x)\n",
    "                    push!(pathy,y)\n",
    "                return true\n",
    "                end\n",
    "            end\n",
    "        end\n",
    "        \n",
    "        if (y < n) && (visit[x,y+1] == false) #north\n",
    "            if (H[x,y] == false)\n",
    "                if recur(x,y+1) == true\n",
    "                    push!(pathx,x)\n",
    "                    push!(pathy,y)\n",
    "                return true\n",
    "                end\n",
    "            end\n",
    "        end\n",
    "        \n",
    "        if (x < n) && (visit[x+1,y] == false) #east\n",
    "            if (V[x,y] == false)\n",
    "                if recur(x+1,y) == true\n",
    "                    push!(pathx,x)\n",
    "                    push!(pathy,y)\n",
    "                return true\n",
    "                end\n",
    "            end\n",
    "        end\n",
    "        \n",
    "    end\n",
    "    recur(1,n)\n",
    "    pathx,pathy\n",
    "    #length(c)\n",
    "end\n",
    "find_path(H,V)\n"
   ]
  },
  {
   "cell_type": "markdown",
   "metadata": {},
   "source": [
    "### Problem 3 - Large maze test\n",
    "\n",
    "Finally, run the code below to illustrate your codes."
   ]
  },
  {
   "cell_type": "code",
   "execution_count": 75,
   "metadata": {},
   "outputs": [
    {
     "data": {
      "image/png": "[encoded data removed]",
      "text/plain": [
       "Figure(PyObject <Figure size 640x480 with 1 Axes>)"
      ]
     },
     "metadata": {},
     "output_type": "display_data"
    }
   ],
   "source": [
    "n = 25\n",
    "H,V = make_maze(n)\n",
    "plot_maze(H,V)\n",
    "x, y = find_path(H,V)\n",
    "plot(x .- 0.5, y .- 0.5, color=\"r\", linewidth=4);"
   ]
  },
  {
   "cell_type": "code",
   "execution_count": null,
   "metadata": {},
   "outputs": [],
   "source": []
  }
 ],
 "metadata": {
  "kernelspec": {
   "display_name": "Julia 1.5.3",
   "language": "julia",
   "name": "julia-1.5"
  },
  "language_info": {
   "file_extension": ".jl",
   "mimetype": "application/julia",
   "name": "julia",
   "version": "1.5.3"
  }
 },
 "nbformat": 4,
 "nbformat_minor": 2
}
