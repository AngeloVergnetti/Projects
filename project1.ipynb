{
 "cells": [
  {
   "cell_type": "code",
   "execution_count": 7,
   "metadata": {
    "deletable": false,
    "editable": false
   },
   "outputs": [
    {
     "name": "stdout",
     "output_type": "stream",
     "text": [
      "=====================================================================\n",
      "Assignment: Project 1: World Progress\n",
      "OK, version v1.12.5\n",
      "=====================================================================\n",
      "\n"
     ]
    }
   ],
   "source": [
    "# Initialize OK\n",
    "from client.api.notebook import Notebook\n",
    "ok = Notebook('project1.ok')"
   ]
  },
  {
   "cell_type": "markdown",
   "metadata": {},
   "source": [
    "## Project 1: World Progress"
   ]
  },
  {
   "cell_type": "markdown",
   "metadata": {},
   "source": [
    "In this project, you'll explore data from [Gapminder.org](http://gapminder.org), a website dedicated to providing a fact-based view of the world and how it has changed. That site includes several data visualizations and presentations, but also publishes the raw data that we will use in this project to recreate and extend some of their most famous visualizations.\n",
    "\n",
    "The Gapminder website collects data from many sources and compiles them into tables that describe many countries around the world. All of the data they aggregate are published in the [Systema Globalis](https://github.com/open-numbers/ddf--gapminder--systema_globalis/blob/master/README.md). Their goal is \"to compile all public statistics; Social, Economic and Environmental; into a comparable total dataset.\" All data sets in this project are copied directly from the Systema Globalis without any changes.\n",
    "\n",
    "This project is dedicated to [Hans Rosling](https://en.wikipedia.org/wiki/Hans_Rosling) (1948-2017), who championed the use of data to understand and prioritize global development challenges."
   ]
  },
  {
   "cell_type": "markdown",
   "metadata": {},
   "source": [
    "### Logistics\n",
    "\n",
    "**Deadline:** This project is due at 11:59pm on Sunday 7/12. Projects will be accepted up to 2 days (48 hours) late; a project submitted less than 24 hours after the deadline will receive 2/3 credit, a project submitted between 24 and 48 hours after the deadline will receive 1/3 credit, and a project submitted 48 hours or more after the deadline will receive no credit. It's **much** better to be early than late, so start working now.\n",
    "\n",
    "**Checkpoint:** For full credit, you must also complete the first 8 questions, pass all public autograder tests, and submit to okpy by 11:59pm on Thursday 7/9. After you've submitted the checkpoint, you may still change your answers before the project deadline - only your final submission will be graded for correctness. You will have some lab time to work on these questions, but we recommend that you start the project before lab and leave time to finish the checkpoint afterward.\n",
    "\n",
    "**Partners:** You may work with one other partner. Only one of you is required to submit the project. On [okpy.org](http://okpy.org), the person who submits should also designate their partner so that both of you receive credit.\n",
    "\n",
    "**Rules:** Don't share your code with anybody but your partner. You are welcome to discuss questions with other students, but don't share the answers. The experience of solving the problems in this project will prepare you for exams (and life). If someone asks you for the answer, resist! Instead, you can demonstrate how you would solve a similar problem.\n",
    "\n",
    "**Support:** You are not alone! Come to office hours, post on Piazza, and talk to your classmates. If you want to ask about the details of your solution to a problem, make a private Piazza post and the staff will respond. If you're ever feeling overwhelmed or don't know how to make progress, email your TA or tutor for help. You can find contact information for the staff on the [course website](http://data8.org/su20/staff.html).\n",
    "\n",
    "**Tests:** The tests that are given are **not comprehensive** and passing the tests for a question **does not** mean that you answered the question correctly. Tests usually only check that your table has the correct column labels. However, more tests will be applied to verify the correctness of your submission in order to assign your final score, so be careful and check your work! You might want to create your own checks along the way to see if your answers make sense. Additionally, before you submit, make sure that none of your cells take a very long time to run (several minutes).\n",
    "\n",
    "**Free Response Questions:** Make sure that you put the answers to the written questions in the indicated cell we provide. Check to make sure that you have a [Gradescope](http://gradescope.com) account, which is where the scores to the free response questions will be posted. If you do not, make sure to reach out to your assigned (u)GSI.\n",
    "\n",
    "**Advice:** Develop your answers incrementally. To perform a complicated table manipulation, break it up into steps, perform each step on a different line, give a new name to each result, and check that each intermediate result is what you expect. You can add any additional names or functions you want to the provided cells. Make sure that you are using distinct and meaningful variable names throughout the notebook. Along that line, **DO NOT** reuse the variable names that we use when we grade your answers. For example, in Question 1 of the Global Poverty section, we ask you to assign an answer to `latest`. Do not reassign the variable name `latest` to anything else in your notebook, otherwise there is the chance that our tests grade against what `latest` was reassigned to.\n",
    "\n",
    "You **never** have to use just one line in this project or any others. Use intermediate variables and multiple lines as much as you would like!  \n",
    "\n",
    "To get started, load `datascience`, `numpy`, `plots`, and `ok`."
   ]
  },
  {
   "cell_type": "code",
   "execution_count": 8,
   "metadata": {},
   "outputs": [
    {
     "name": "stdout",
     "output_type": "stream",
     "text": [
      "=====================================================================\n",
      "Assignment: Project 1: World Progress\n",
      "OK, version v1.12.5\n",
      "=====================================================================\n",
      "\n"
     ]
    }
   ],
   "source": [
    "from datascience import *\n",
    "import numpy as np\n",
    "\n",
    "%matplotlib inline\n",
    "import matplotlib.pyplot as plots\n",
    "plots.style.use('fivethirtyeight')\n",
    "\n",
    "from client.api.notebook import Notebook\n",
    "ok = Notebook('project1.ok')"
   ]
  },
  {
   "cell_type": "markdown",
   "metadata": {},
   "source": [
    "Before continuing the assignment, select \"Save and Checkpoint\" in the File menu and then execute the submit cell below. The result will contain a link that you can use to check that your assignment has been submitted successfully. If you submit more than once before the deadline, we will only grade your final submission. If you mistakenly submit the wrong one, you can head to okpy.org and flag the correct version. There will be another submit cell at the end of the assignment when you finish!"
   ]
  },
  {
   "cell_type": "code",
   "execution_count": 9,
   "metadata": {},
   "outputs": [
    {
     "data": {
      "application/javascript": [
       "IPython.notebook.save_checkpoint();"
      ],
      "text/plain": [
       "<IPython.core.display.Javascript object>"
      ]
     },
     "metadata": {},
     "output_type": "display_data"
    },
    {
     "data": {
      "application/javascript": [
       "IPython.notebook.save_notebook();"
      ],
      "text/plain": [
       "<IPython.core.display.Javascript object>"
      ]
     },
     "metadata": {},
     "output_type": "display_data"
    },
    {
     "name": "stdout",
     "output_type": "stream",
     "text": [
      "Saving notebook... Saved 'project1.ipynb'.\n",
      "Submit... 100% complete\n",
      "Submission successful for user: angelovergnetti@berkeley.edu\n",
      "URL: https://okpy.org/cal/data8/su20/project1/submissions/y92B8P\n",
      "\n"
     ]
    }
   ],
   "source": [
    "_ = ok.submit()"
   ]
  },
  {
   "cell_type": "markdown",
   "metadata": {
    "deletable": false,
    "editable": false
   },
   "source": [
    "## 1. Global Population Growth\n"
   ]
  },
  {
   "cell_type": "markdown",
   "metadata": {
    "deletable": false,
    "editable": false
   },
   "source": [
    "The global population of humans reached 1 billion around 1800, 3 billion around 1960, and 7 billion around 2011. The potential impact of exponential population growth has concerned scientists, economists, and politicians alike.\n",
    "\n",
    "The UN Population Division estimates that the world population will likely continue to grow throughout the 21st century, but at a slower rate, perhaps reaching 11 billion by 2100. However, the UN does not rule out scenarios of more extreme growth.\n",
    "\n",
    "<a href=\"http://www.pewresearch.org/fact-tank/2015/06/08/scientists-more-worried-than-public-about-worlds-growing-population/ft_15-06-04_popcount/\"> \n",
    " <img src=\"pew_population_projection.png\"/> \n",
    "</a>\n",
    "\n",
    "In this section, we will examine some of the factors that influence population growth and how they are changing around the world.\n",
    "\n",
    "The first table we will consider is the total population of each country over time. Run the cell below."
   ]
  },
  {
   "cell_type": "code",
   "execution_count": 10,
   "metadata": {
    "deletable": false,
    "editable": false
   },
   "outputs": [
    {
     "data": {
      "text/html": [
       "<table border=\"1\" class=\"dataframe\">\n",
       "    <thead>\n",
       "        <tr>\n",
       "            <th>geo</th> <th>time</th> <th>population_total</th>\n",
       "        </tr>\n",
       "    </thead>\n",
       "    <tbody>\n",
       "        <tr>\n",
       "            <td>abw </td> <td>1800</td> <td>19286           </td>\n",
       "        </tr>\n",
       "        <tr>\n",
       "            <td>abw </td> <td>1801</td> <td>19286           </td>\n",
       "        </tr>\n",
       "        <tr>\n",
       "            <td>abw </td> <td>1802</td> <td>19286           </td>\n",
       "        </tr>\n",
       "    </tbody>\n",
       "</table>\n",
       "<p>... (87792 rows omitted)</p>"
      ],
      "text/plain": [
       "<IPython.core.display.HTML object>"
      ]
     },
     "metadata": {},
     "output_type": "display_data"
    }
   ],
   "source": [
    "population = Table.read_table('population.csv')\n",
    "population.show(3)"
   ]
  },
  {
   "cell_type": "markdown",
   "metadata": {},
   "source": [
    "**Note:** The population csv file can also be found [here](https://github.com/open-numbers/ddf--gapminder--systema_globalis/raw/master/ddf--datapoints--population_total--by--geo--time.csv). The data for this project was downloaded in February 2017."
   ]
  },
  {
   "cell_type": "markdown",
   "metadata": {
    "deletable": false,
    "editable": false
   },
   "source": [
    "### Bangladesh\n",
    "\n",
    "In the `population` table, the `geo` column contains three-letter codes established by the [International Organization for Standardization](https://en.wikipedia.org/wiki/International_Organization_for_Standardization) (ISO) in the [Alpha-3](https://en.wikipedia.org/wiki/ISO_3166-1_alpha-3#Current_codes) standard. We will begin by taking a close look at Bangladesh. Inspect the standard to find the 3-letter code for Bangladesh."
   ]
  },
  {
   "cell_type": "markdown",
   "metadata": {
    "deletable": false,
    "editable": false
   },
   "source": [
    "**Question 1.** Create a table called `b_pop` that has two columns labeled `time` and `population_total`. The first column should contain the years from 1970 through 2015 (including both 1970 and 2015) and the second should contain the population of Bangladesh in each of those years.\n",
    "\n",
    "<!--\n",
    "BEGIN QUESTION\n",
    "name: q1_1\n",
    "-->"
   ]
  },
  {
   "cell_type": "code",
   "execution_count": 11,
   "metadata": {},
   "outputs": [
    {
     "data": {
      "text/html": [
       "<table border=\"1\" class=\"dataframe\">\n",
       "    <thead>\n",
       "        <tr>\n",
       "            <th>geo</th> <th>time</th> <th>population_total</th>\n",
       "        </tr>\n",
       "    </thead>\n",
       "    <tbody>\n",
       "        <tr>\n",
       "            <td>bgd </td> <td>1600</td> <td>12918659        </td>\n",
       "        </tr>\n",
       "        <tr>\n",
       "            <td>bgd </td> <td>1601</td> <td>12944609        </td>\n",
       "        </tr>\n",
       "        <tr>\n",
       "            <td>bgd </td> <td>1602</td> <td>12970611        </td>\n",
       "        </tr>\n",
       "        <tr>\n",
       "            <td>bgd </td> <td>1603</td> <td>12996665        </td>\n",
       "        </tr>\n",
       "        <tr>\n",
       "            <td>bgd </td> <td>1604</td> <td>13022772        </td>\n",
       "        </tr>\n",
       "        <tr>\n",
       "            <td>bgd </td> <td>1605</td> <td>13048931        </td>\n",
       "        </tr>\n",
       "        <tr>\n",
       "            <td>bgd </td> <td>1606</td> <td>13075143        </td>\n",
       "        </tr>\n",
       "        <tr>\n",
       "            <td>bgd </td> <td>1607</td> <td>13101407        </td>\n",
       "        </tr>\n",
       "        <tr>\n",
       "            <td>bgd </td> <td>1608</td> <td>13127724        </td>\n",
       "        </tr>\n",
       "        <tr>\n",
       "            <td>bgd </td> <td>1609</td> <td>13154094        </td>\n",
       "        </tr>\n",
       "    </tbody>\n",
       "</table>\n",
       "<p>... (491 rows omitted)</p>"
      ],
      "text/plain": [
       "geo  | time | population_total\n",
       "bgd  | 1600 | 12918659\n",
       "bgd  | 1601 | 12944609\n",
       "bgd  | 1602 | 12970611\n",
       "bgd  | 1603 | 12996665\n",
       "bgd  | 1604 | 13022772\n",
       "bgd  | 1605 | 13048931\n",
       "bgd  | 1606 | 13075143\n",
       "bgd  | 1607 | 13101407\n",
       "bgd  | 1608 | 13127724\n",
       "bgd  | 1609 | 13154094\n",
       "... (491 rows omitted)"
      ]
     },
     "execution_count": 11,
     "metadata": {},
     "output_type": "execute_result"
    }
   ],
   "source": [
    "bgd = population.where(\"geo\",are.equal_to(\"bgd\"))\n",
    "bgd"
   ]
  },
  {
   "cell_type": "code",
   "execution_count": 12,
   "metadata": {},
   "outputs": [
    {
     "data": {
      "text/html": [
       "<table border=\"1\" class=\"dataframe\">\n",
       "    <thead>\n",
       "        <tr>\n",
       "            <th>geo</th> <th>time</th> <th>population_total</th>\n",
       "        </tr>\n",
       "    </thead>\n",
       "    <tbody>\n",
       "        <tr>\n",
       "            <td>bgd </td> <td>1970</td> <td>65048701        </td>\n",
       "        </tr>\n",
       "        <tr>\n",
       "            <td>bgd </td> <td>1971</td> <td>66417450        </td>\n",
       "        </tr>\n",
       "        <tr>\n",
       "            <td>bgd </td> <td>1972</td> <td>67578486        </td>\n",
       "        </tr>\n",
       "        <tr>\n",
       "            <td>bgd </td> <td>1973</td> <td>68658472        </td>\n",
       "        </tr>\n",
       "        <tr>\n",
       "            <td>bgd </td> <td>1974</td> <td>69837960        </td>\n",
       "        </tr>\n",
       "        <tr>\n",
       "            <td>bgd </td> <td>1975</td> <td>71247153        </td>\n",
       "        </tr>\n",
       "        <tr>\n",
       "            <td>bgd </td> <td>1976</td> <td>72930206        </td>\n",
       "        </tr>\n",
       "        <tr>\n",
       "            <td>bgd </td> <td>1977</td> <td>74848466        </td>\n",
       "        </tr>\n",
       "        <tr>\n",
       "            <td>bgd </td> <td>1978</td> <td>76948378        </td>\n",
       "        </tr>\n",
       "        <tr>\n",
       "            <td>bgd </td> <td>1979</td> <td>79141947        </td>\n",
       "        </tr>\n",
       "    </tbody>\n",
       "</table>\n",
       "<p>... (36 rows omitted)</p>"
      ],
      "text/plain": [
       "geo  | time | population_total\n",
       "bgd  | 1970 | 65048701\n",
       "bgd  | 1971 | 66417450\n",
       "bgd  | 1972 | 67578486\n",
       "bgd  | 1973 | 68658472\n",
       "bgd  | 1974 | 69837960\n",
       "bgd  | 1975 | 71247153\n",
       "bgd  | 1976 | 72930206\n",
       "bgd  | 1977 | 74848466\n",
       "bgd  | 1978 | 76948378\n",
       "bgd  | 1979 | 79141947\n",
       "... (36 rows omitted)"
      ]
     },
     "execution_count": 12,
     "metadata": {},
     "output_type": "execute_result"
    }
   ],
   "source": [
    "bgd_after_1970 = (population.where(\"geo\",are.equal_to(\"bgd\"))).where(\"time\",are.between_or_equal_to(1970,2015))\n",
    "bgd_after_1970"
   ]
  },
  {
   "cell_type": "code",
   "execution_count": 13,
   "metadata": {
    "deletable": false
   },
   "outputs": [
    {
     "data": {
      "text/html": [
       "<table border=\"1\" class=\"dataframe\">\n",
       "    <thead>\n",
       "        <tr>\n",
       "            <th>time</th> <th>population_total</th>\n",
       "        </tr>\n",
       "    </thead>\n",
       "    <tbody>\n",
       "        <tr>\n",
       "            <td>1970</td> <td>65048701        </td>\n",
       "        </tr>\n",
       "        <tr>\n",
       "            <td>1971</td> <td>66417450        </td>\n",
       "        </tr>\n",
       "        <tr>\n",
       "            <td>1972</td> <td>67578486        </td>\n",
       "        </tr>\n",
       "        <tr>\n",
       "            <td>1973</td> <td>68658472        </td>\n",
       "        </tr>\n",
       "        <tr>\n",
       "            <td>1974</td> <td>69837960        </td>\n",
       "        </tr>\n",
       "        <tr>\n",
       "            <td>1975</td> <td>71247153        </td>\n",
       "        </tr>\n",
       "        <tr>\n",
       "            <td>1976</td> <td>72930206        </td>\n",
       "        </tr>\n",
       "        <tr>\n",
       "            <td>1977</td> <td>74848466        </td>\n",
       "        </tr>\n",
       "        <tr>\n",
       "            <td>1978</td> <td>76948378        </td>\n",
       "        </tr>\n",
       "        <tr>\n",
       "            <td>1979</td> <td>79141947        </td>\n",
       "        </tr>\n",
       "    </tbody>\n",
       "</table>\n",
       "<p>... (36 rows omitted)</p>"
      ],
      "text/plain": [
       "time | population_total\n",
       "1970 | 65048701\n",
       "1971 | 66417450\n",
       "1972 | 67578486\n",
       "1973 | 68658472\n",
       "1974 | 69837960\n",
       "1975 | 71247153\n",
       "1976 | 72930206\n",
       "1977 | 74848466\n",
       "1978 | 76948378\n",
       "1979 | 79141947\n",
       "... (36 rows omitted)"
      ]
     },
     "execution_count": 13,
     "metadata": {},
     "output_type": "execute_result"
    }
   ],
   "source": [
    "b_pop = bgd_after_1970.select(\"time\",\"population_total\")\n",
    "b_pop"
   ]
  },
  {
   "cell_type": "code",
   "execution_count": 14,
   "metadata": {
    "deletable": false,
    "editable": false
   },
   "outputs": [
    {
     "name": "stdout",
     "output_type": "stream",
     "text": [
      "~~~~~~~~~~~~~~~~~~~~~~~~~~~~~~~~~~~~~~~~~~~~~~~~~~~~~~~~~~~~~~~~~~~~~\n",
      "Running tests\n",
      "\n",
      "---------------------------------------------------------------------\n",
      "Test summary\n",
      "    Passed: 2\n",
      "    Failed: 0\n",
      "[ooooooooook] 100.0% passed\n",
      "\n"
     ]
    }
   ],
   "source": [
    "ok.grade(\"q1_1\");"
   ]
  },
  {
   "cell_type": "markdown",
   "metadata": {
    "deletable": false,
    "editable": false
   },
   "source": [
    "Run the following cell to create a table called `b_five` that has the population of Bangladesh every five years. At a glance, it appears that the population of Bangladesh has been growing quickly indeed!"
   ]
  },
  {
   "cell_type": "code",
   "execution_count": 15,
   "metadata": {
    "deletable": false,
    "editable": false
   },
   "outputs": [
    {
     "data": {
      "text/html": [
       "<table border=\"1\" class=\"dataframe\">\n",
       "    <thead>\n",
       "        <tr>\n",
       "            <th>time</th> <th>population_total</th>\n",
       "        </tr>\n",
       "    </thead>\n",
       "    <tbody>\n",
       "        <tr>\n",
       "            <td>1970</td> <td>65,048,701      </td>\n",
       "        </tr>\n",
       "        <tr>\n",
       "            <td>1975</td> <td>71,247,153      </td>\n",
       "        </tr>\n",
       "        <tr>\n",
       "            <td>1980</td> <td>81,364,176      </td>\n",
       "        </tr>\n",
       "        <tr>\n",
       "            <td>1985</td> <td>93,015,182      </td>\n",
       "        </tr>\n",
       "        <tr>\n",
       "            <td>1990</td> <td>105,983,136     </td>\n",
       "        </tr>\n",
       "        <tr>\n",
       "            <td>1995</td> <td>118,427,768     </td>\n",
       "        </tr>\n",
       "        <tr>\n",
       "            <td>2000</td> <td>131,280,739     </td>\n",
       "        </tr>\n",
       "        <tr>\n",
       "            <td>2005</td> <td>142,929,979     </td>\n",
       "        </tr>\n",
       "        <tr>\n",
       "            <td>2010</td> <td>151,616,777     </td>\n",
       "        </tr>\n",
       "        <tr>\n",
       "            <td>2015</td> <td>160,995,642     </td>\n",
       "        </tr>\n",
       "    </tbody>\n",
       "</table>"
      ],
      "text/plain": [
       "time | population_total\n",
       "1970 | 65,048,701\n",
       "1975 | 71,247,153\n",
       "1980 | 81,364,176\n",
       "1985 | 93,015,182\n",
       "1990 | 105,983,136\n",
       "1995 | 118,427,768\n",
       "2000 | 131,280,739\n",
       "2005 | 142,929,979\n",
       "2010 | 151,616,777\n",
       "2015 | 160,995,642"
      ]
     },
     "execution_count": 15,
     "metadata": {},
     "output_type": "execute_result"
    }
   ],
   "source": [
    "b_pop.set_format('population_total', NumberFormatter)\n",
    "\n",
    "fives = np.arange(1970, 2016, 5) # 1970, 1975, 1980, ...\n",
    "b_five = b_pop.sort('time').where('time', are.contained_in(fives))\n",
    "b_five"
   ]
  },
  {
   "cell_type": "markdown",
   "metadata": {
    "deletable": false,
    "editable": false
   },
   "source": [
    "**Question 2.** Assign `initial` to an array that contains the population for every five year interval from 1970 to 2010. Then, assign `changed` to an array that contains the population for every five year interval from 1975 to 2015. You should use the `b_five` table to create both arrays, first filtering the table to only contain the relevant years.\n",
    "\n",
    "We have provided the code below that uses  `initial` and `changed` in order to add a column to `b_five` called `annual_growth`. Don't worry about the calculation of the growth rates; run the test below to test your solution.\n",
    "\n",
    "If you are interested in how we came up with the formula for growth rates, consult the [growth rates](https://www.inferentialthinking.com/chapters/03/2/1/growth) section of the textbook.\n",
    "\n",
    "<!--\n",
    "BEGIN QUESTION\n",
    "name: q1_2\n",
    "-->"
   ]
  },
  {
   "cell_type": "code",
   "execution_count": 16,
   "metadata": {
    "deletable": false
   },
   "outputs": [
    {
     "data": {
      "text/html": [
       "<table border=\"1\" class=\"dataframe\">\n",
       "    <thead>\n",
       "        <tr>\n",
       "            <th>time</th> <th>population_total</th> <th>annual_growth</th>\n",
       "        </tr>\n",
       "    </thead>\n",
       "    <tbody>\n",
       "        <tr>\n",
       "            <td>1970</td> <td>65,048,701      </td> <td>1.84%        </td>\n",
       "        </tr>\n",
       "        <tr>\n",
       "            <td>1975</td> <td>71,247,153      </td> <td>2.69%        </td>\n",
       "        </tr>\n",
       "        <tr>\n",
       "            <td>1980</td> <td>81,364,176      </td> <td>2.71%        </td>\n",
       "        </tr>\n",
       "        <tr>\n",
       "            <td>1985</td> <td>93,015,182      </td> <td>2.64%        </td>\n",
       "        </tr>\n",
       "        <tr>\n",
       "            <td>1990</td> <td>105,983,136     </td> <td>2.25%        </td>\n",
       "        </tr>\n",
       "        <tr>\n",
       "            <td>1995</td> <td>118,427,768     </td> <td>2.08%        </td>\n",
       "        </tr>\n",
       "        <tr>\n",
       "            <td>2000</td> <td>131,280,739     </td> <td>1.71%        </td>\n",
       "        </tr>\n",
       "        <tr>\n",
       "            <td>2005</td> <td>142,929,979     </td> <td>1.19%        </td>\n",
       "        </tr>\n",
       "        <tr>\n",
       "            <td>2010</td> <td>151,616,777     </td> <td>1.21%        </td>\n",
       "        </tr>\n",
       "    </tbody>\n",
       "</table>"
      ],
      "text/plain": [
       "time | population_total | annual_growth\n",
       "1970 | 65,048,701       | 1.84%\n",
       "1975 | 71,247,153       | 2.69%\n",
       "1980 | 81,364,176       | 2.71%\n",
       "1985 | 93,015,182       | 2.64%\n",
       "1990 | 105,983,136      | 2.25%\n",
       "1995 | 118,427,768      | 2.08%\n",
       "2000 | 131,280,739      | 1.71%\n",
       "2005 | 142,929,979      | 1.19%\n",
       "2010 | 151,616,777      | 1.21%"
      ]
     },
     "execution_count": 16,
     "metadata": {},
     "output_type": "execute_result"
    }
   ],
   "source": [
    "initial = b_five.where(\"time\", are.between_or_equal_to(1970,2010)).column(\"population_total\")\n",
    "changed = b_five.where(\"time\", are.between_or_equal_to(1975,2015)).column(\"population_total\")\n",
    "\n",
    "b_1970_through_2010 = b_five.where('time', are.below_or_equal_to(2010)) \n",
    "b_five_growth = b_1970_through_2010.with_column('annual_growth', (changed/initial)**0.2-1)\n",
    "b_five_growth.set_format('annual_growth', PercentFormatter)"
   ]
  },
  {
   "cell_type": "code",
   "execution_count": 17,
   "metadata": {
    "deletable": false,
    "editable": false
   },
   "outputs": [
    {
     "name": "stdout",
     "output_type": "stream",
     "text": [
      "~~~~~~~~~~~~~~~~~~~~~~~~~~~~~~~~~~~~~~~~~~~~~~~~~~~~~~~~~~~~~~~~~~~~~\n",
      "Running tests\n",
      "\n",
      "---------------------------------------------------------------------\n",
      "Test summary\n",
      "    Passed: 2\n",
      "    Failed: 0\n",
      "[ooooooooook] 100.0% passed\n",
      "\n"
     ]
    }
   ],
   "source": [
    "ok.grade(\"q1_2\");"
   ]
  },
  {
   "cell_type": "markdown",
   "metadata": {
    "deletable": false,
    "editable": false
   },
   "source": [
    "While the population has grown every five years since 1970, the annual growth rate decreased dramatically from 1985 to 2005. Let's look at some other information in order to develop a possible explanation. Run the next cell to load three additional tables of measurements about countries over time."
   ]
  },
  {
   "cell_type": "code",
   "execution_count": 18,
   "metadata": {
    "deletable": false,
    "editable": false
   },
   "outputs": [],
   "source": [
    "life_expectancy = Table.read_table('life_expectancy.csv')\n",
    "child_mortality = Table.read_table('child_mortality.csv').relabel(2, 'child_mortality_under_5_per_1000_born')\n",
    "fertility = Table.read_table('fertility.csv')"
   ]
  },
  {
   "cell_type": "markdown",
   "metadata": {
    "deletable": false,
    "editable": false
   },
   "source": [
    "The `life_expectancy` table contains a statistic that is often used to measure how long people live, called *life expectancy at birth*. This number, for a country in a given year, [does not measure how long babies born in that year are expected to live](http://blogs.worldbank.org/opendata/what-does-life-expectancy-birth-really-mean). Instead, it measures how long someone would live, on average, if the *mortality conditions* in that year persisted throughout their lifetime. These \"mortality conditions\" describe what fraction of people at each age survived the year. So, it is a way of measuring the proportion of people that are staying alive, aggregated over different age groups in the population."
   ]
  },
  {
   "cell_type": "markdown",
   "metadata": {},
   "source": [
    "Run the following cells below to see `life_expectancy`, `child_mortality`, and `fertility`. Refer back to these tables as they will be helpful for answering further questions!"
   ]
  },
  {
   "cell_type": "code",
   "execution_count": 19,
   "metadata": {},
   "outputs": [
    {
     "data": {
      "text/html": [
       "<table border=\"1\" class=\"dataframe\">\n",
       "    <thead>\n",
       "        <tr>\n",
       "            <th>geo</th> <th>time</th> <th>life_expectancy_years</th>\n",
       "        </tr>\n",
       "    </thead>\n",
       "    <tbody>\n",
       "        <tr>\n",
       "            <td>afg </td> <td>1800</td> <td>28.21                </td>\n",
       "        </tr>\n",
       "        <tr>\n",
       "            <td>afg </td> <td>1801</td> <td>28.2                 </td>\n",
       "        </tr>\n",
       "        <tr>\n",
       "            <td>afg </td> <td>1802</td> <td>28.19                </td>\n",
       "        </tr>\n",
       "        <tr>\n",
       "            <td>afg </td> <td>1803</td> <td>28.18                </td>\n",
       "        </tr>\n",
       "        <tr>\n",
       "            <td>afg </td> <td>1804</td> <td>28.17                </td>\n",
       "        </tr>\n",
       "        <tr>\n",
       "            <td>afg </td> <td>1805</td> <td>28.16                </td>\n",
       "        </tr>\n",
       "        <tr>\n",
       "            <td>afg </td> <td>1806</td> <td>28.15                </td>\n",
       "        </tr>\n",
       "        <tr>\n",
       "            <td>afg </td> <td>1807</td> <td>28.14                </td>\n",
       "        </tr>\n",
       "        <tr>\n",
       "            <td>afg </td> <td>1808</td> <td>28.13                </td>\n",
       "        </tr>\n",
       "        <tr>\n",
       "            <td>afg </td> <td>1809</td> <td>28.12                </td>\n",
       "        </tr>\n",
       "    </tbody>\n",
       "</table>\n",
       "<p>... (43847 rows omitted)</p>"
      ],
      "text/plain": [
       "geo  | time | life_expectancy_years\n",
       "afg  | 1800 | 28.21\n",
       "afg  | 1801 | 28.2\n",
       "afg  | 1802 | 28.19\n",
       "afg  | 1803 | 28.18\n",
       "afg  | 1804 | 28.17\n",
       "afg  | 1805 | 28.16\n",
       "afg  | 1806 | 28.15\n",
       "afg  | 1807 | 28.14\n",
       "afg  | 1808 | 28.13\n",
       "afg  | 1809 | 28.12\n",
       "... (43847 rows omitted)"
      ]
     },
     "execution_count": 19,
     "metadata": {},
     "output_type": "execute_result"
    }
   ],
   "source": [
    "life_expectancy"
   ]
  },
  {
   "cell_type": "code",
   "execution_count": 20,
   "metadata": {},
   "outputs": [
    {
     "data": {
      "text/html": [
       "<table border=\"1\" class=\"dataframe\">\n",
       "    <thead>\n",
       "        <tr>\n",
       "            <th>geo</th> <th>time</th> <th>child_mortality_under_5_per_1000_born</th>\n",
       "        </tr>\n",
       "    </thead>\n",
       "    <tbody>\n",
       "        <tr>\n",
       "            <td>afg </td> <td>1800</td> <td>468.6                                </td>\n",
       "        </tr>\n",
       "        <tr>\n",
       "            <td>afg </td> <td>1801</td> <td>468.6                                </td>\n",
       "        </tr>\n",
       "        <tr>\n",
       "            <td>afg </td> <td>1802</td> <td>468.6                                </td>\n",
       "        </tr>\n",
       "        <tr>\n",
       "            <td>afg </td> <td>1803</td> <td>468.6                                </td>\n",
       "        </tr>\n",
       "        <tr>\n",
       "            <td>afg </td> <td>1804</td> <td>468.6                                </td>\n",
       "        </tr>\n",
       "        <tr>\n",
       "            <td>afg </td> <td>1805</td> <td>468.6                                </td>\n",
       "        </tr>\n",
       "        <tr>\n",
       "            <td>afg </td> <td>1806</td> <td>470                                  </td>\n",
       "        </tr>\n",
       "        <tr>\n",
       "            <td>afg </td> <td>1807</td> <td>470                                  </td>\n",
       "        </tr>\n",
       "        <tr>\n",
       "            <td>afg </td> <td>1808</td> <td>470                                  </td>\n",
       "        </tr>\n",
       "        <tr>\n",
       "            <td>afg </td> <td>1809</td> <td>470                                  </td>\n",
       "        </tr>\n",
       "    </tbody>\n",
       "</table>\n",
       "<p>... (40746 rows omitted)</p>"
      ],
      "text/plain": [
       "geo  | time | child_mortality_under_5_per_1000_born\n",
       "afg  | 1800 | 468.6\n",
       "afg  | 1801 | 468.6\n",
       "afg  | 1802 | 468.6\n",
       "afg  | 1803 | 468.6\n",
       "afg  | 1804 | 468.6\n",
       "afg  | 1805 | 468.6\n",
       "afg  | 1806 | 470\n",
       "afg  | 1807 | 470\n",
       "afg  | 1808 | 470\n",
       "afg  | 1809 | 470\n",
       "... (40746 rows omitted)"
      ]
     },
     "execution_count": 20,
     "metadata": {},
     "output_type": "execute_result"
    }
   ],
   "source": [
    "child_mortality"
   ]
  },
  {
   "cell_type": "code",
   "execution_count": 21,
   "metadata": {},
   "outputs": [
    {
     "data": {
      "text/html": [
       "<table border=\"1\" class=\"dataframe\">\n",
       "    <thead>\n",
       "        <tr>\n",
       "            <th>geo</th> <th>time</th> <th>children_per_woman_total_fertility</th>\n",
       "        </tr>\n",
       "    </thead>\n",
       "    <tbody>\n",
       "        <tr>\n",
       "            <td>afg </td> <td>1800</td> <td>7                                 </td>\n",
       "        </tr>\n",
       "        <tr>\n",
       "            <td>afg </td> <td>1801</td> <td>7                                 </td>\n",
       "        </tr>\n",
       "        <tr>\n",
       "            <td>afg </td> <td>1802</td> <td>7                                 </td>\n",
       "        </tr>\n",
       "        <tr>\n",
       "            <td>afg </td> <td>1803</td> <td>7                                 </td>\n",
       "        </tr>\n",
       "        <tr>\n",
       "            <td>afg </td> <td>1804</td> <td>7                                 </td>\n",
       "        </tr>\n",
       "        <tr>\n",
       "            <td>afg </td> <td>1805</td> <td>7                                 </td>\n",
       "        </tr>\n",
       "        <tr>\n",
       "            <td>afg </td> <td>1806</td> <td>7                                 </td>\n",
       "        </tr>\n",
       "        <tr>\n",
       "            <td>afg </td> <td>1807</td> <td>7                                 </td>\n",
       "        </tr>\n",
       "        <tr>\n",
       "            <td>afg </td> <td>1808</td> <td>7                                 </td>\n",
       "        </tr>\n",
       "        <tr>\n",
       "            <td>afg </td> <td>1809</td> <td>7                                 </td>\n",
       "        </tr>\n",
       "    </tbody>\n",
       "</table>\n",
       "<p>... (43402 rows omitted)</p>"
      ],
      "text/plain": [
       "geo  | time | children_per_woman_total_fertility\n",
       "afg  | 1800 | 7\n",
       "afg  | 1801 | 7\n",
       "afg  | 1802 | 7\n",
       "afg  | 1803 | 7\n",
       "afg  | 1804 | 7\n",
       "afg  | 1805 | 7\n",
       "afg  | 1806 | 7\n",
       "afg  | 1807 | 7\n",
       "afg  | 1808 | 7\n",
       "afg  | 1809 | 7\n",
       "... (43402 rows omitted)"
      ]
     },
     "execution_count": 21,
     "metadata": {},
     "output_type": "execute_result"
    }
   ],
   "source": [
    "fertility"
   ]
  },
  {
   "cell_type": "markdown",
   "metadata": {
    "deletable": false,
    "editable": false
   },
   "source": [
    "**Question 3.** Perhaps population is growing more slowly because people aren't living as long. Use the `life_expectancy` table to draw a line graph with the years 1970 and later on the horizontal axis that shows how the *life expectancy at birth* has changed in Bangladesh.\n",
    "\n",
    "<!--\n",
    "BEGIN QUESTION\n",
    "name: q1_3\n",
    "manual: true\n",
    "-->\n",
    "<!-- EXPORT TO PDF -->"
   ]
  },
  {
   "cell_type": "code",
   "execution_count": 22,
   "metadata": {},
   "outputs": [
    {
     "data": {
      "text/html": [
       "<table border=\"1\" class=\"dataframe\">\n",
       "    <thead>\n",
       "        <tr>\n",
       "            <th>geo</th> <th>time</th> <th>life_expectancy_years</th>\n",
       "        </tr>\n",
       "    </thead>\n",
       "    <tbody>\n",
       "        <tr>\n",
       "            <td>afg </td> <td>1970</td> <td>37.2                 </td>\n",
       "        </tr>\n",
       "        <tr>\n",
       "            <td>afg </td> <td>1971</td> <td>37.7                 </td>\n",
       "        </tr>\n",
       "        <tr>\n",
       "            <td>afg </td> <td>1972</td> <td>38.19                </td>\n",
       "        </tr>\n",
       "        <tr>\n",
       "            <td>afg </td> <td>1973</td> <td>38.67                </td>\n",
       "        </tr>\n",
       "        <tr>\n",
       "            <td>afg </td> <td>1974</td> <td>39.14                </td>\n",
       "        </tr>\n",
       "        <tr>\n",
       "            <td>afg </td> <td>1975</td> <td>39.61                </td>\n",
       "        </tr>\n",
       "        <tr>\n",
       "            <td>afg </td> <td>1976</td> <td>40.07                </td>\n",
       "        </tr>\n",
       "        <tr>\n",
       "            <td>afg </td> <td>1977</td> <td>40.53                </td>\n",
       "        </tr>\n",
       "        <tr>\n",
       "            <td>afg </td> <td>1978</td> <td>40.98                </td>\n",
       "        </tr>\n",
       "        <tr>\n",
       "            <td>afg </td> <td>1979</td> <td>41.46                </td>\n",
       "        </tr>\n",
       "    </tbody>\n",
       "</table>\n",
       "<p>... (9657 rows omitted)</p>"
      ],
      "text/plain": [
       "geo  | time | life_expectancy_years\n",
       "afg  | 1970 | 37.2\n",
       "afg  | 1971 | 37.7\n",
       "afg  | 1972 | 38.19\n",
       "afg  | 1973 | 38.67\n",
       "afg  | 1974 | 39.14\n",
       "afg  | 1975 | 39.61\n",
       "afg  | 1976 | 40.07\n",
       "afg  | 1977 | 40.53\n",
       "afg  | 1978 | 40.98\n",
       "afg  | 1979 | 41.46\n",
       "... (9657 rows omitted)"
      ]
     },
     "execution_count": 22,
     "metadata": {},
     "output_type": "execute_result"
    }
   ],
   "source": [
    "life_expectancy_after_69 = life_expectancy.where(\"time\",are.above_or_equal_to(1970))\n",
    "life_expectancy_after_69"
   ]
  },
  {
   "cell_type": "code",
   "execution_count": 23,
   "metadata": {},
   "outputs": [
    {
     "data": {
      "text/html": [
       "<table border=\"1\" class=\"dataframe\">\n",
       "    <thead>\n",
       "        <tr>\n",
       "            <th>geo</th> <th>time</th> <th>life_expectancy_years</th>\n",
       "        </tr>\n",
       "    </thead>\n",
       "    <tbody>\n",
       "        <tr>\n",
       "            <td>bgd </td> <td>1970</td> <td>46.31                </td>\n",
       "        </tr>\n",
       "        <tr>\n",
       "            <td>bgd </td> <td>1971</td> <td>45.74                </td>\n",
       "        </tr>\n",
       "        <tr>\n",
       "            <td>bgd </td> <td>1972</td> <td>45.52                </td>\n",
       "        </tr>\n",
       "        <tr>\n",
       "            <td>bgd </td> <td>1973</td> <td>45.77                </td>\n",
       "        </tr>\n",
       "        <tr>\n",
       "            <td>bgd </td> <td>1974</td> <td>46.49                </td>\n",
       "        </tr>\n",
       "        <tr>\n",
       "            <td>bgd </td> <td>1975</td> <td>47.58                </td>\n",
       "        </tr>\n",
       "        <tr>\n",
       "            <td>bgd </td> <td>1976</td> <td>48.92                </td>\n",
       "        </tr>\n",
       "        <tr>\n",
       "            <td>bgd </td> <td>1977</td> <td>50.27                </td>\n",
       "        </tr>\n",
       "        <tr>\n",
       "            <td>bgd </td> <td>1978</td> <td>51.47                </td>\n",
       "        </tr>\n",
       "        <tr>\n",
       "            <td>bgd </td> <td>1979</td> <td>52.44                </td>\n",
       "        </tr>\n",
       "        <tr>\n",
       "            <td>bgd </td> <td>1980</td> <td>53.18                </td>\n",
       "        </tr>\n",
       "        <tr>\n",
       "            <td>bgd </td> <td>1981</td> <td>53.72                </td>\n",
       "        </tr>\n",
       "        <tr>\n",
       "            <td>bgd </td> <td>1982</td> <td>54.15                </td>\n",
       "        </tr>\n",
       "        <tr>\n",
       "            <td>bgd </td> <td>1983</td> <td>54.57                </td>\n",
       "        </tr>\n",
       "        <tr>\n",
       "            <td>bgd </td> <td>1984</td> <td>55                   </td>\n",
       "        </tr>\n",
       "        <tr>\n",
       "            <td>bgd </td> <td>1985</td> <td>55.47                </td>\n",
       "        </tr>\n",
       "        <tr>\n",
       "            <td>bgd </td> <td>1986</td> <td>55.96                </td>\n",
       "        </tr>\n",
       "        <tr>\n",
       "            <td>bgd </td> <td>1987</td> <td>56.46                </td>\n",
       "        </tr>\n",
       "        <tr>\n",
       "            <td>bgd </td> <td>1988</td> <td>56.94                </td>\n",
       "        </tr>\n",
       "        <tr>\n",
       "            <td>bgd </td> <td>1989</td> <td>57.42                </td>\n",
       "        </tr>\n",
       "        <tr>\n",
       "            <td>bgd </td> <td>1990</td> <td>57.9                 </td>\n",
       "        </tr>\n",
       "        <tr>\n",
       "            <td>bgd </td> <td>1991</td> <td>56.4                 </td>\n",
       "        </tr>\n",
       "        <tr>\n",
       "            <td>bgd </td> <td>1992</td> <td>59.7                 </td>\n",
       "        </tr>\n",
       "        <tr>\n",
       "            <td>bgd </td> <td>1993</td> <td>60.5                 </td>\n",
       "        </tr>\n",
       "        <tr>\n",
       "            <td>bgd </td> <td>1994</td> <td>61.2                 </td>\n",
       "        </tr>\n",
       "        <tr>\n",
       "            <td>bgd </td> <td>1995</td> <td>61.6                 </td>\n",
       "        </tr>\n",
       "        <tr>\n",
       "            <td>bgd </td> <td>1996</td> <td>62.4                 </td>\n",
       "        </tr>\n",
       "        <tr>\n",
       "            <td>bgd </td> <td>1997</td> <td>63.2                 </td>\n",
       "        </tr>\n",
       "        <tr>\n",
       "            <td>bgd </td> <td>1998</td> <td>63.9                 </td>\n",
       "        </tr>\n",
       "        <tr>\n",
       "            <td>bgd </td> <td>1999</td> <td>64.6                 </td>\n",
       "        </tr>\n",
       "        <tr>\n",
       "            <td>bgd </td> <td>2000</td> <td>64.9                 </td>\n",
       "        </tr>\n",
       "        <tr>\n",
       "            <td>bgd </td> <td>2001</td> <td>65.4                 </td>\n",
       "        </tr>\n",
       "        <tr>\n",
       "            <td>bgd </td> <td>2002</td> <td>65.8                 </td>\n",
       "        </tr>\n",
       "        <tr>\n",
       "            <td>bgd </td> <td>2003</td> <td>66.3                 </td>\n",
       "        </tr>\n",
       "        <tr>\n",
       "            <td>bgd </td> <td>2004</td> <td>66.8                 </td>\n",
       "        </tr>\n",
       "        <tr>\n",
       "            <td>bgd </td> <td>2005</td> <td>67.1                 </td>\n",
       "        </tr>\n",
       "        <tr>\n",
       "            <td>bgd </td> <td>2006</td> <td>67.5                 </td>\n",
       "        </tr>\n",
       "        <tr>\n",
       "            <td>bgd </td> <td>2007</td> <td>67.7                 </td>\n",
       "        </tr>\n",
       "        <tr>\n",
       "            <td>bgd </td> <td>2008</td> <td>68.3                 </td>\n",
       "        </tr>\n",
       "        <tr>\n",
       "            <td>bgd </td> <td>2009</td> <td>68.6                 </td>\n",
       "        </tr>\n",
       "        <tr>\n",
       "            <td>bgd </td> <td>2010</td> <td>68.8                 </td>\n",
       "        </tr>\n",
       "        <tr>\n",
       "            <td>bgd </td> <td>2011</td> <td>69.3                 </td>\n",
       "        </tr>\n",
       "        <tr>\n",
       "            <td>bgd </td> <td>2012</td> <td>69.4                 </td>\n",
       "        </tr>\n",
       "        <tr>\n",
       "            <td>bgd </td> <td>2013</td> <td>69.8                 </td>\n",
       "        </tr>\n",
       "        <tr>\n",
       "            <td>bgd </td> <td>2014</td> <td>70.1                 </td>\n",
       "        </tr>\n",
       "        <tr>\n",
       "            <td>bgd </td> <td>2015</td> <td>70.4                 </td>\n",
       "        </tr>\n",
       "        <tr>\n",
       "            <td>bgd </td> <td>2016</td> <td>70.7                 </td>\n",
       "        </tr>\n",
       "    </tbody>\n",
       "</table>"
      ],
      "text/plain": [
       "<IPython.core.display.HTML object>"
      ]
     },
     "metadata": {},
     "output_type": "display_data"
    }
   ],
   "source": [
    "life_expectancy_after_69_bgd = life_expectancy_after_69.where(\"geo\",are.equal_to(\"bgd\"))\n",
    "life_expectancy_after_69_bgd.show(47)"
   ]
  },
  {
   "cell_type": "code",
   "execution_count": 24,
   "metadata": {
    "deletable": false,
    "export_pdf": true,
    "manual_grade": true,
    "manual_problem_id": "global_pop_3"
   },
   "outputs": [
    {
     "data": {
      "image/png": "[encoded data removed]",
      "text/plain": [
       "<Figure size 432x288 with 1 Axes>"
      ]
     },
     "metadata": {},
     "output_type": "display_data"
    }
   ],
   "source": [
    "life_expectancy_after_69_bgd.plot(\"time\",\"life_expectancy_years\")"
   ]
  },
  {
   "cell_type": "markdown",
   "metadata": {
    "deletable": false,
    "editable": false
   },
   "source": [
    "**Question 4.** Assuming everything else stays the same, do the trends in life expectancy in the graph above directly explain why the population growth rate decreased from 1985 to 2010 in Bangladesh? Why or why not? \n",
    "\n",
    "Hint: What happened in Bangladesh in 1991, and does that event explain the overall change in population growth rate?\n",
    "\n",
    "<!--\n",
    "BEGIN QUESTION\n",
    "name: q1_4\n",
    "manual: true\n",
    "-->\n",
    "<!-- EXPORT TO PDF -->"
   ]
  },
  {
   "cell_type": "markdown",
   "metadata": {
    "collapsed": true,
    "deletable": false,
    "export_pdf": true,
    "manual_grade": true,
    "manual_problem_id": "global_pop_4"
   },
   "source": [
    "The life expectancy increasing means that there are more people every year in the population of older ages; thus, while the population is staying at a high number due to less death there are a similar number of births leading to a decrease in the population grow rate. "
   ]
  },
  {
   "cell_type": "markdown",
   "metadata": {
    "deletable": false,
    "editable": false
   },
   "source": [
    "The `fertility` table contains a statistic that is often used to measure how many babies are being born, the *total fertility rate*. This number describes the [number of children a woman would have in her lifetime](https://www.measureevaluation.org/prh/rh_indicators/specific/fertility/total-fertility-rate), on average, if the current rates of birth by age of the mother persisted throughout her child bearing years, assuming she survived through age 49. "
   ]
  },
  {
   "cell_type": "markdown",
   "metadata": {
    "deletable": false,
    "editable": false
   },
   "source": [
    "**Question 5.** Write a function `fertility_over_time` that takes the Alpha-3 code of a `country` and a `start` year. It returns a two-column table with labels `Year` and `Children per woman` that can be used to generate a line chart of the country's fertility rate each year, starting at the `start` year. The plot should include the `start` year and all later years that appear in the `fertility` table. \n",
    "\n",
    "Then, in the next cell, call your `fertility_over_time` function on the Alpha-3 code for Bangladesh and the year 1970 in order to plot how Bangladesh's fertility rate has changed since 1970. Note that the function `fertility_over_time` should not return the plot itself. **The expression that draws the line plot is provided for you; please don't change it.**\n",
    "\n",
    "<!--\n",
    "BEGIN QUESTION\n",
    "name: q1_5\n",
    "-->"
   ]
  },
  {
   "cell_type": "code",
   "execution_count": 25,
   "metadata": {
    "deletable": false
   },
   "outputs": [
    {
     "data": {
      "image/png": "[encoded data removed]",
      "text/plain": [
       "<Figure size 432x288 with 1 Axes>"
      ]
     },
     "metadata": {},
     "output_type": "display_data"
    }
   ],
   "source": [
    "def fertility_over_time(country, start):\n",
    "    \"\"\"Create a two-column table that describes a country's total fertility rate each year.\"\"\"\n",
    "    country_fertility = (fertility.where(\"geo\",are.equal_to(country)))\n",
    "    country_fertility_after_start = country_fertility.where(\"time\", are.between_or_equal_to(start, 2017))\n",
    "    cleaned_table = ((country_fertility_after_start.select(\"time\",\"children_per_woman_total_fertility\")).relabel(\"time\",\"Year\")).relabel(\"children_per_woman_total_fertility\",\"Children per woman\")\n",
    "    return cleaned_table\n",
    "\n",
    "bangladesh_code = \"bgd\"\n",
    "fertility_over_time(bangladesh_code, 1970).plot(0, 1) # You should *not* change this line."
   ]
  },
  {
   "cell_type": "code",
   "execution_count": 26,
   "metadata": {
    "deletable": false,
    "editable": false
   },
   "outputs": [
    {
     "name": "stdout",
     "output_type": "stream",
     "text": [
      "~~~~~~~~~~~~~~~~~~~~~~~~~~~~~~~~~~~~~~~~~~~~~~~~~~~~~~~~~~~~~~~~~~~~~\n",
      "Running tests\n",
      "\n",
      "---------------------------------------------------------------------\n",
      "Test summary\n",
      "    Passed: 3\n",
      "    Failed: 0\n",
      "[ooooooooook] 100.0% passed\n",
      "\n"
     ]
    }
   ],
   "source": [
    "ok.grade(\"q1_5\");"
   ]
  },
  {
   "cell_type": "markdown",
   "metadata": {
    "deletable": false,
    "editable": false
   },
   "source": [
    "**Question 6.** Assuming everything else is constant, do the trends in fertility in the graph above help directly explain why the population growth rate decreased from 1985 to 2010 in Bangladesh? Why or why not?\n",
    "\n",
    "<!--\n",
    "BEGIN QUESTION\n",
    "name: q1_6\n",
    "manual: true\n",
    "-->\n",
    "<!-- EXPORT TO PDF -->"
   ]
  },
  {
   "cell_type": "markdown",
   "metadata": {
    "deletable": false,
    "export_pdf": true,
    "manual_grade": true,
    "manual_problem_id": "global_pop_6"
   },
   "source": [
    "Yes, because the birth rate is decreasing; therefore, there is a smaller population the next year leading to a lower population growth rate, which is what is observed. "
   ]
  },
  {
   "cell_type": "markdown",
   "metadata": {
    "deletable": false,
    "editable": false
   },
   "source": [
    "It has been observed that lower fertility rates are often associated with lower child mortality rates. The link has been attributed to family planning: if parents can expect that their children will all survive into adulthood, then they will choose to have fewer children. We can see if this association is evident in Bangladesh by plotting the relationship between total fertility rate and [child mortality rate per 1000 children](https://en.wikipedia.org/wiki/Child_mortality)."
   ]
  },
  {
   "cell_type": "markdown",
   "metadata": {
    "deletable": false,
    "editable": false
   },
   "source": [
    "**Question 7.** Using both the `fertility` and `child_mortality` tables, draw a scatter diagram that has Bangladesh's total fertility on the horizontal axis and its child mortality on the vertical axis with one point for each year, starting with 1970.\n",
    "\n",
    "**The expression that draws the scatter diagram is provided for you; please don't change it.** Instead, create a table called `post_1969_fertility_and_child_mortality` with the appropriate column labels and data in order to generate the chart correctly. Use the label `Children per woman` to describe total fertility and the label `Child deaths per 1000 born` to describe child mortality.\n",
    "\n",
    "<!--\n",
    "BEGIN QUESTION\n",
    "name: q1_7\n",
    "manual: false\n",
    "-->"
   ]
  },
  {
   "cell_type": "code",
   "execution_count": 27,
   "metadata": {
    "deletable": false
   },
   "outputs": [
    {
     "data": {
      "image/png": "[encoded data removed]",
      "text/plain": [
       "<Figure size 360x360 with 1 Axes>"
      ]
     },
     "metadata": {},
     "output_type": "display_data"
    }
   ],
   "source": [
    "bgd_fertility = fertility.where('geo', are.equal_to('bgd'))\n",
    "bgd_child_mortality = child_mortality.where('geo', are.equal_to('bgd'))\n",
    "fertility_and_child_mortality = bgd_fertility.join('time', bgd_child_mortality).drop('geo', 'geo_2')\n",
    "post_1969_fertility_and_child_mortality = fertility_and_child_mortality.where('time', are.above(1969)).relabel('children_per_woman_total_fertility', 'Children per woman').relabel('child_mortality_under_5_per_1000_born', 'Child deaths per 1000 born')\n",
    "\n",
    "post_1969_fertility_and_child_mortality.scatter('Children per woman', 'Child deaths per 1000 born') # You should *not* change this line."
   ]
  },
  {
   "cell_type": "code",
   "execution_count": 28,
   "metadata": {
    "deletable": false,
    "editable": false
   },
   "outputs": [
    {
     "name": "stdout",
     "output_type": "stream",
     "text": [
      "~~~~~~~~~~~~~~~~~~~~~~~~~~~~~~~~~~~~~~~~~~~~~~~~~~~~~~~~~~~~~~~~~~~~~\n",
      "Running tests\n",
      "\n",
      "---------------------------------------------------------------------\n",
      "Test summary\n",
      "    Passed: 2\n",
      "    Failed: 0\n",
      "[ooooooooook] 100.0% passed\n",
      "\n"
     ]
    }
   ],
   "source": [
    "ok.grade(\"q1_7\");"
   ]
  },
  {
   "cell_type": "markdown",
   "metadata": {
    "deletable": false,
    "editable": false
   },
   "source": [
    "**Question 8.** In one or two sentences, describe the association (if any) that is illustrated by this scatter diagram. Does the diagram show that reduced child mortality causes parents to choose to have fewer children?\n",
    "\n",
    "<!--\n",
    "BEGIN QUESTION\n",
    "name: q1_8\n",
    "manual: true\n",
    "-->\n",
    "<!-- EXPORT TO PDF -->"
   ]
  },
  {
   "cell_type": "markdown",
   "metadata": {
    "deletable": false,
    "export_pdf": true,
    "manual_grade": true,
    "manual_problem_id": "global_pop_8"
   },
   "source": [
    "Yes, there is a clear indication that as the number of children per woman increases, the child mortality rate increases as well. Conversely, lower child mortality results in fewer children per woman. "
   ]
  },
  {
   "cell_type": "markdown",
   "metadata": {},
   "source": [
    "### Checkpoint (due Thursday 7/9)\n",
    "#### Congratulations, you have reached the checkpoint! Run the submit cell below to generate the checkpoint submission."
   ]
  },
  {
   "cell_type": "code",
   "execution_count": 29,
   "metadata": {},
   "outputs": [
    {
     "data": {
      "application/javascript": [
       "IPython.notebook.save_checkpoint();"
      ],
      "text/plain": [
       "<IPython.core.display.Javascript object>"
      ]
     },
     "metadata": {},
     "output_type": "display_data"
    },
    {
     "data": {
      "application/javascript": [
       "IPython.notebook.save_notebook();"
      ],
      "text/plain": [
       "<IPython.core.display.Javascript object>"
      ]
     },
     "metadata": {},
     "output_type": "display_data"
    },
    {
     "name": "stdout",
     "output_type": "stream",
     "text": [
      "Saving notebook... Saved 'project1.ipynb'.\n",
      "Submit... 100% complete\n",
      "Submission successful for user: angelovergnetti@berkeley.edu\n",
      "URL: https://okpy.org/cal/data8/su20/project1/submissions/z7YDmm\n",
      "\n"
     ]
    }
   ],
   "source": [
    "_ = ok.submit()"
   ]
  },
  {
   "cell_type": "markdown",
   "metadata": {
    "deletable": false,
    "editable": false
   },
   "source": [
    "### The World\n",
    "\n",
    "The change observed in Bangladesh since 1970 can also be observed in many other developing countries: health services improve, life expectancy increases, and child mortality decreases. At the same time, the fertility rate often plummets, and so the population growth rate decreases despite increasing longevity."
   ]
  },
  {
   "cell_type": "markdown",
   "metadata": {
    "deletable": false,
    "editable": false
   },
   "source": [
    "Run the cell below to generate two overlaid histograms, one for 1960 and one for 2010, that show the distributions of total fertility rates for these two years among all 201 countries in the `fertility` table."
   ]
  },
  {
   "cell_type": "code",
   "execution_count": 30,
   "metadata": {
    "deletable": false
   },
   "outputs": [
    {
     "data": {
      "image/png": "[encoded data removed]",
      "text/plain": [
       "<Figure size 432x288 with 1 Axes>"
      ]
     },
     "metadata": {},
     "output_type": "display_data"
    }
   ],
   "source": [
    "Table().with_columns(\n",
    "    '1960', fertility.where('time', 1960).column(2),\n",
    "    '2010', fertility.where('time', 2010).column(2)\n",
    ").hist(bins=np.arange(0, 10, 0.5), unit='child per woman')\n",
    "_ = plots.xlabel('Children per woman')\n",
    "_ = plots.ylabel('Percent per children per woman')\n",
    "_ = plots.xticks(np.arange(10))"
   ]
  },
  {
   "cell_type": "markdown",
   "metadata": {
    "deletable": false,
    "editable": false
   },
   "source": [
    "**Question 9.** Assign `fertility_statements` to an array of the numbers of each statement below that can be correctly inferred from these histograms.\n",
    "1. About the same number of countries had a fertility rate between 3.5 and 4.5 in both 1960 and 2010.\n",
    "1. In 2010, about 40% of countries had a fertility rate between 1.5 and 2.\n",
    "1. In 1960, less than 20% of countries had a fertility rate below 3.\n",
    "1. More countries had a fertility rate above 3 in 1960 than in 2010.\n",
    "1. At least half of countries had a fertility rate between 5 and 8 in 1960.\n",
    "1. At least half of countries had a fertility rate below 3 in 2010.\n",
    "\n",
    "<!--\n",
    "BEGIN QUESTION\n",
    "name: q1_9\n",
    "-->"
   ]
  },
  {
   "cell_type": "code",
   "execution_count": 31,
   "metadata": {
    "deletable": false
   },
   "outputs": [],
   "source": [
    "fertility_statements = make_array(1,2,3,4,5,6)\n"
   ]
  },
  {
   "cell_type": "code",
   "execution_count": 32,
   "metadata": {
    "deletable": false,
    "editable": false
   },
   "outputs": [
    {
     "name": "stdout",
     "output_type": "stream",
     "text": [
      "~~~~~~~~~~~~~~~~~~~~~~~~~~~~~~~~~~~~~~~~~~~~~~~~~~~~~~~~~~~~~~~~~~~~~\n",
      "Running tests\n",
      "\n",
      "---------------------------------------------------------------------\n",
      "Test summary\n",
      "    Passed: 1\n",
      "    Failed: 0\n",
      "[ooooooooook] 100.0% passed\n",
      "\n"
     ]
    }
   ],
   "source": [
    "ok.grade(\"q1_9\");"
   ]
  },
  {
   "cell_type": "markdown",
   "metadata": {
    "deletable": false,
    "editable": false
   },
   "source": [
    "**Question 10.** Draw a line plot of the world population from 1800 through 2005. The world population is the sum of all the country's populations. \n",
    "\n",
    "<!--\n",
    "BEGIN QUESTION\n",
    "name: q1_10\n",
    "manual: true\n",
    "-->\n",
    "<!-- EXPORT TO PDF -->"
   ]
  },
  {
   "cell_type": "code",
   "execution_count": 33,
   "metadata": {},
   "outputs": [
    {
     "ename": "NameError",
     "evalue": "name 'world_population' is not defined",
     "output_type": "error",
     "traceback": [
      "\u001b[0;31m---------------------------------------------------------------------------\u001b[0m",
      "\u001b[0;31mNameError\u001b[0m                                 Traceback (most recent call last)",
      "\u001b[0;32m<ipython-input-33-8d66f960c0c1>\u001b[0m in \u001b[0;36m<module>\u001b[0;34m\u001b[0m\n\u001b[0;32m----> 1\u001b[0;31m \u001b[0mlen\u001b[0m\u001b[0;34m(\u001b[0m\u001b[0mworld_population\u001b[0m\u001b[0;34m)\u001b[0m\u001b[0;34m\u001b[0m\u001b[0;34m\u001b[0m\u001b[0m\n\u001b[0m",
      "\u001b[0;31mNameError\u001b[0m: name 'world_population' is not defined"
     ]
    }
   ],
   "source": [
    "len(world_population)"
   ]
  },
  {
   "cell_type": "code",
   "execution_count": 34,
   "metadata": {},
   "outputs": [],
   "source": [
    "time = np.arange(1800,2006)"
   ]
  },
  {
   "cell_type": "code",
   "execution_count": 35,
   "metadata": {},
   "outputs": [
    {
     "ename": "NameError",
     "evalue": "name 'world_population' is not defined",
     "output_type": "error",
     "traceback": [
      "\u001b[0;31m---------------------------------------------------------------------------\u001b[0m",
      "\u001b[0;31mNameError\u001b[0m                                 Traceback (most recent call last)",
      "\u001b[0;32m<ipython-input-35-93c6da6964aa>\u001b[0m in \u001b[0;36m<module>\u001b[0;34m\u001b[0m\n\u001b[1;32m      1\u001b[0m world_pop_bro = Table().with_columns(\"time\", time,\n\u001b[0;32m----> 2\u001b[0;31m                      \"world population\",world_population)\n\u001b[0m",
      "\u001b[0;31mNameError\u001b[0m: name 'world_population' is not defined"
     ]
    }
   ],
   "source": [
    "world_pop_bro = Table().with_columns(\"time\", time,\n",
    "                     \"world population\",world_population)"
   ]
  },
  {
   "cell_type": "code",
   "execution_count": 36,
   "metadata": {
    "deletable": false,
    "export_pdf": true,
    "manual_grade": true,
    "manual_problem_id": "global_pop_10"
   },
   "outputs": [
    {
     "ename": "NameError",
     "evalue": "name 'world_pop_bro' is not defined",
     "output_type": "error",
     "traceback": [
      "\u001b[0;31m---------------------------------------------------------------------------\u001b[0m",
      "\u001b[0;31mNameError\u001b[0m                                 Traceback (most recent call last)",
      "\u001b[0;32m<ipython-input-36-336cfb99ddc4>\u001b[0m in \u001b[0;36m<module>\u001b[0;34m\u001b[0m\n\u001b[0;32m----> 1\u001b[0;31m \u001b[0mworld_pop_bro\u001b[0m\u001b[0;34m.\u001b[0m\u001b[0mplot\u001b[0m\u001b[0;34m(\u001b[0m\u001b[0;34m\"time\"\u001b[0m\u001b[0;34m,\u001b[0m\u001b[0;34m\"world population\"\u001b[0m\u001b[0;34m)\u001b[0m\u001b[0;34m\u001b[0m\u001b[0;34m\u001b[0m\u001b[0m\n\u001b[0m",
      "\u001b[0;31mNameError\u001b[0m: name 'world_pop_bro' is not defined"
     ]
    }
   ],
   "source": [
    "world_pop_bro.plot(\"time\",\"world population\")\n"
   ]
  },
  {
   "cell_type": "markdown",
   "metadata": {
    "deletable": false,
    "editable": false
   },
   "source": [
    "**Question 11.** Create a function `stats_for_year` that takes a `year` and returns a table of statistics. The table it returns should have four columns: `geo`, `population_total`, `children_per_woman_total_fertility`, and `child_mortality_under_5_per_1000_born`. Each row should contain one Alpha-3 country code and three statistics: population, fertility rate, and child mortality for that `year` from the `population`, `fertility` and `child_mortality` tables. Only include rows for which all three statistics are available for the country and year.\n",
    "\n",
    "In addition, restrict the result to country codes that appears in `big_50`, an array of the 50 most populous countries in 2010. This restriction will speed up computations later in the project.\n",
    "\n",
    "After you write `stats_for_year`, try calling `stats_for_year` on any year between 1960 and 2010. Try to understand the output of stats_for_year.\n",
    "\n",
    "*Hint*: The tests for this question are quite comprehensive, so if you pass the tests, your function is probably correct. However, without calling your function yourself and looking at the output, it will be very difficult to understand any problems you have, so try your best to write the function correctly and check that it works before you rely on the `ok` tests to confirm your work.\n",
    "\n",
    "<!--\n",
    "BEGIN QUESTION\n",
    "name: q1_11\n",
    "manual: false\n",
    "-->"
   ]
  },
  {
   "cell_type": "code",
   "execution_count": 37,
   "metadata": {
    "deletable": false
   },
   "outputs": [
    {
     "data": {
      "text/html": [
       "<table border=\"1\" class=\"dataframe\">\n",
       "    <thead>\n",
       "        <tr>\n",
       "            <th>geo</th> <th>population_total</th> <th>children_per_woman_total_fertility</th> <th>child_mortality_under_5_per_1000_born</th>\n",
       "        </tr>\n",
       "    </thead>\n",
       "    <tbody>\n",
       "        <tr>\n",
       "            <td>afg </td> <td>11412821        </td> <td>7.67                              </td> <td>302.1                                </td>\n",
       "        </tr>\n",
       "        <tr>\n",
       "            <td>arg </td> <td>24366442        </td> <td>3.1                               </td> <td>71.5                                 </td>\n",
       "        </tr>\n",
       "        <tr>\n",
       "            <td>bgd </td> <td>66417450        </td> <td>6.94                              </td> <td>223                                  </td>\n",
       "        </tr>\n",
       "        <tr>\n",
       "            <td>bra </td> <td>98402200        </td> <td>4.9                               </td> <td>130.1                                </td>\n",
       "        </tr>\n",
       "        <tr>\n",
       "            <td>can </td> <td>21790338        </td> <td>2.14                              </td> <td>21                                   </td>\n",
       "        </tr>\n",
       "        <tr>\n",
       "            <td>chn </td> <td>829367784       </td> <td>5.4                               </td> <td>107.7                                </td>\n",
       "        </tr>\n",
       "        <tr>\n",
       "            <td>cod </td> <td>20563111        </td> <td>6.24                              </td> <td>244.8                                </td>\n",
       "        </tr>\n",
       "        <tr>\n",
       "            <td>col </td> <td>22611988        </td> <td>5.37                              </td> <td>94                                   </td>\n",
       "        </tr>\n",
       "        <tr>\n",
       "            <td>deu </td> <td>78584779        </td> <td>1.92                              </td> <td>24.9                                 </td>\n",
       "        </tr>\n",
       "        <tr>\n",
       "            <td>dza </td> <td>14960111        </td> <td>7.62                              </td> <td>237.3                                </td>\n",
       "        </tr>\n",
       "    </tbody>\n",
       "</table>\n",
       "<p>... (40 rows omitted)</p>"
      ],
      "text/plain": [
       "geo  | population_total | children_per_woman_total_fertility | child_mortality_under_5_per_1000_born\n",
       "afg  | 11412821         | 7.67                               | 302.1\n",
       "arg  | 24366442         | 3.1                                | 71.5\n",
       "bgd  | 66417450         | 6.94                               | 223\n",
       "bra  | 98402200         | 4.9                                | 130.1\n",
       "can  | 21790338         | 2.14                               | 21\n",
       "chn  | 829367784        | 5.4                                | 107.7\n",
       "cod  | 20563111         | 6.24                               | 244.8\n",
       "col  | 22611988         | 5.37                               | 94\n",
       "deu  | 78584779         | 1.92                               | 24.9\n",
       "dza  | 14960111         | 7.62                               | 237.3\n",
       "... (40 rows omitted)"
      ]
     },
     "execution_count": 37,
     "metadata": {},
     "output_type": "execute_result"
    }
   ],
   "source": [
    "# We first create a population table that only includes the \n",
    "# 50 countries with the largest 2010 populations. We focus on \n",
    "# these 50 countries only so that plotting later will run faster.\n",
    "big_50 = population.where('time', are.equal_to(2010)).sort(\"population_total\", descending=True).take(np.arange(50)).column('geo')\n",
    "population_of_big_50 = population.where('time', are.above(1959)).where('geo', are.contained_in(big_50))\n",
    "\n",
    "def stats_for_year(year):\n",
    "    \"\"\"Return a table of the stats for each country that year.\"\"\"\n",
    "    p = population_of_big_50.where('time', are.equal_to(year)).drop('time')\n",
    "    f = fertility.where('time', are.equal_to(year)).drop('time')\n",
    "    c = child_mortality.where('time', are.equal_to(year)).drop('time')\n",
    "    return (p.join(\"geo\",f)).join(\"geo\",c)\n",
    "\n",
    "stats_for_year(1971)"
   ]
  },
  {
   "cell_type": "code",
   "execution_count": 38,
   "metadata": {
    "deletable": false,
    "editable": false
   },
   "outputs": [
    {
     "name": "stdout",
     "output_type": "stream",
     "text": [
      "~~~~~~~~~~~~~~~~~~~~~~~~~~~~~~~~~~~~~~~~~~~~~~~~~~~~~~~~~~~~~~~~~~~~~\n",
      "Running tests\n",
      "\n",
      "---------------------------------------------------------------------\n",
      "Test summary\n",
      "    Passed: 4\n",
      "    Failed: 0\n",
      "[ooooooooook] 100.0% passed\n",
      "\n"
     ]
    }
   ],
   "source": [
    "ok.grade(\"q1_11\");"
   ]
  },
  {
   "cell_type": "markdown",
   "metadata": {
    "deletable": false,
    "editable": false
   },
   "source": [
    "**Question 12.** Create a table called `pop_by_decade` with two columns called `decade` and `population`. It has a row for each `year` from 1960 to 2010 that starts a decade. The `population` column contains the total population of all countries included in the result of `stats_for_year(year)` for the first `year` of the decade. For example, 1960 is the first year of the 1960's decade. You should see that these countries contain most of the world's population.\n",
    "\n",
    "*Hint:* One approach is to define a function `pop_for_year` that computes this total population, then `apply` it to the `decade` column.  The `stats_for_year` function from the previous question may be useful here.\n",
    "\n",
    "This first test is just a sanity check for your helper function if you choose to use it. You will not lose points for not implementing the function `pop_for_year`.\n",
    "\n",
    "**Note:** The cell where you will generate the `pop_by_decade` table is below the cell where you can choose to define the helper function `pop_for_year`. You should define your `pop_by_decade` table in the cell that starts with the table `decades` being defined. \n",
    "\n",
    "<!--\n",
    "BEGIN QUESTION\n",
    "name: q1_12_0\n",
    "manual: false\n",
    "points: 0\n",
    "-->"
   ]
  },
  {
   "cell_type": "code",
   "execution_count": 39,
   "metadata": {},
   "outputs": [
    {
     "data": {
      "text/plain": [
       "3278490441"
      ]
     },
     "execution_count": 39,
     "metadata": {},
     "output_type": "execute_result"
    }
   ],
   "source": [
    "def pop_for_year(year):\n",
    "    return sum(stats_for_year(year).column(\"population_total\"))\n",
    "\n",
    "pop_for_year(1971)\n"
   ]
  },
  {
   "cell_type": "code",
   "execution_count": 40,
   "metadata": {},
   "outputs": [
    {
     "data": {
      "text/plain": [
       "array([1960, 1970, 1980, 1990, 2000, 2010])"
      ]
     },
     "execution_count": 40,
     "metadata": {},
     "output_type": "execute_result"
    }
   ],
   "source": [
    "decades = np.arange(1960, 2011, 10)\n",
    "decades"
   ]
  },
  {
   "cell_type": "code",
   "execution_count": 41,
   "metadata": {},
   "outputs": [
    {
     "data": {
      "text/html": [
       "<table border=\"1\" class=\"dataframe\">\n",
       "    <thead>\n",
       "        <tr>\n",
       "            <th>decade</th>\n",
       "        </tr>\n",
       "    </thead>\n",
       "    <tbody>\n",
       "        <tr>\n",
       "            <td>1960  </td>\n",
       "        </tr>\n",
       "        <tr>\n",
       "            <td>1970  </td>\n",
       "        </tr>\n",
       "        <tr>\n",
       "            <td>1980  </td>\n",
       "        </tr>\n",
       "        <tr>\n",
       "            <td>1990  </td>\n",
       "        </tr>\n",
       "        <tr>\n",
       "            <td>2000  </td>\n",
       "        </tr>\n",
       "        <tr>\n",
       "            <td>2010  </td>\n",
       "        </tr>\n",
       "    </tbody>\n",
       "</table>"
      ],
      "text/plain": [
       "decade\n",
       "1960\n",
       "1970\n",
       "1980\n",
       "1990\n",
       "2000\n",
       "2010"
      ]
     },
     "execution_count": 41,
     "metadata": {},
     "output_type": "execute_result"
    }
   ],
   "source": [
    "decade_table = Table().with_columns(\"decade\", decades)\n",
    "decade_table"
   ]
  },
  {
   "cell_type": "code",
   "execution_count": 42,
   "metadata": {},
   "outputs": [],
   "source": [
    "meow = decade_table.apply(pop_for_year, \"decade\")"
   ]
  },
  {
   "cell_type": "code",
   "execution_count": 43,
   "metadata": {},
   "outputs": [
    {
     "data": {
      "text/html": [
       "<table border=\"1\" class=\"dataframe\">\n",
       "    <thead>\n",
       "        <tr>\n",
       "            <th>decade</th> <th>population</th>\n",
       "        </tr>\n",
       "    </thead>\n",
       "    <tbody>\n",
       "        <tr>\n",
       "            <td>1960  </td> <td>2624944597</td>\n",
       "        </tr>\n",
       "        <tr>\n",
       "            <td>1970  </td> <td>3211487418</td>\n",
       "        </tr>\n",
       "        <tr>\n",
       "            <td>1980  </td> <td>3880722003</td>\n",
       "        </tr>\n",
       "        <tr>\n",
       "            <td>1990  </td> <td>4648434558</td>\n",
       "        </tr>\n",
       "        <tr>\n",
       "            <td>2000  </td> <td>5367553063</td>\n",
       "        </tr>\n",
       "        <tr>\n",
       "            <td>2010  </td> <td>6040810517</td>\n",
       "        </tr>\n",
       "    </tbody>\n",
       "</table>"
      ],
      "text/plain": [
       "decade | population\n",
       "1960   | 2624944597\n",
       "1970   | 3211487418\n",
       "1980   | 3880722003\n",
       "1990   | 4648434558\n",
       "2000   | 5367553063\n",
       "2010   | 6040810517"
      ]
     },
     "execution_count": 43,
     "metadata": {},
     "output_type": "execute_result"
    }
   ],
   "source": [
    "pop_by_decade = decade_table.with_columns(\"population\", meow)\n",
    "pop_by_decade"
   ]
  },
  {
   "cell_type": "code",
   "execution_count": 44,
   "metadata": {
    "deletable": false,
    "editable": false
   },
   "outputs": [
    {
     "name": "stdout",
     "output_type": "stream",
     "text": [
      "~~~~~~~~~~~~~~~~~~~~~~~~~~~~~~~~~~~~~~~~~~~~~~~~~~~~~~~~~~~~~~~~~~~~~\n",
      "Running tests\n",
      "\n",
      "---------------------------------------------------------------------\n",
      "Test summary\n",
      "    Passed: 3\n",
      "    Failed: 0\n",
      "[ooooooooook] 100.0% passed\n",
      "\n"
     ]
    }
   ],
   "source": [
    "ok.grade(\"q1_12_0\");"
   ]
  },
  {
   "cell_type": "markdown",
   "metadata": {
    "deletable": false,
    "editable": false
   },
   "source": [
    "Now that you've defined your helper function (if you've chosen to do so), define the `pop_by_decade` table.\n",
    "\n",
    "<!--\n",
    "BEGIN QUESTION\n",
    "name: q1_12\n",
    "manual: false\n",
    "-->"
   ]
  },
  {
   "cell_type": "code",
   "execution_count": 45,
   "metadata": {
    "deletable": false
   },
   "outputs": [
    {
     "data": {
      "text/html": [
       "<table border=\"1\" class=\"dataframe\">\n",
       "    <thead>\n",
       "        <tr>\n",
       "            <th>decade</th> <th>population</th>\n",
       "        </tr>\n",
       "    </thead>\n",
       "    <tbody>\n",
       "        <tr>\n",
       "            <td>1960  </td> <td>2,624,944,597</td>\n",
       "        </tr>\n",
       "        <tr>\n",
       "            <td>1970  </td> <td>3,211,487,418</td>\n",
       "        </tr>\n",
       "        <tr>\n",
       "            <td>1980  </td> <td>3,880,722,003</td>\n",
       "        </tr>\n",
       "        <tr>\n",
       "            <td>1990  </td> <td>4,648,434,558</td>\n",
       "        </tr>\n",
       "        <tr>\n",
       "            <td>2000  </td> <td>5,367,553,063</td>\n",
       "        </tr>\n",
       "        <tr>\n",
       "            <td>2010  </td> <td>6,040,810,517</td>\n",
       "        </tr>\n",
       "    </tbody>\n",
       "</table>"
      ],
      "text/plain": [
       "decade | population\n",
       "1960   | 2,624,944,597\n",
       "1970   | 3,211,487,418\n",
       "1980   | 3,880,722,003\n",
       "1990   | 4,648,434,558\n",
       "2000   | 5,367,553,063\n",
       "2010   | 6,040,810,517"
      ]
     },
     "execution_count": 45,
     "metadata": {},
     "output_type": "execute_result"
    }
   ],
   "source": [
    "decades = Table().with_column('decade', np.arange(1960, 2011, 10))\n",
    "\n",
    "pop_by_decade = decade_table.with_columns(\"population\", meow)\n",
    "pop_by_decade.set_format(1, NumberFormatter)"
   ]
  },
  {
   "cell_type": "code",
   "execution_count": 46,
   "metadata": {
    "deletable": false,
    "editable": false
   },
   "outputs": [
    {
     "name": "stdout",
     "output_type": "stream",
     "text": [
      "~~~~~~~~~~~~~~~~~~~~~~~~~~~~~~~~~~~~~~~~~~~~~~~~~~~~~~~~~~~~~~~~~~~~~\n",
      "Running tests\n",
      "\n",
      "---------------------------------------------------------------------\n",
      "Test summary\n",
      "    Passed: 2\n",
      "    Failed: 0\n",
      "[ooooooooook] 100.0% passed\n",
      "\n"
     ]
    }
   ],
   "source": [
    "ok.grade(\"q1_12\");"
   ]
  },
  {
   "cell_type": "markdown",
   "metadata": {
    "deletable": false,
    "editable": false
   },
   "source": [
    "The `countries` table describes various characteristics of countries. The `country` column contains the same codes as the `geo` column in each of the other data tables (`population`, `fertility`, and `child_mortality`). The `world_6region` column classifies each country into a region of the world. Run the cell below to inspect the data."
   ]
  },
  {
   "cell_type": "code",
   "execution_count": 47,
   "metadata": {},
   "outputs": [
    {
     "data": {
      "text/html": [
       "<table border=\"1\" class=\"dataframe\">\n",
       "    <thead>\n",
       "        <tr>\n",
       "            <th>country</th> <th>name</th> <th>world_6region</th>\n",
       "        </tr>\n",
       "    </thead>\n",
       "    <tbody>\n",
       "        <tr>\n",
       "            <td>afg      </td> <td>Afghanistan          </td> <td>south_asia              </td>\n",
       "        </tr>\n",
       "        <tr>\n",
       "            <td>akr_a_dhe</td> <td>Akrotiri and Dhekelia</td> <td>europe_central_asia     </td>\n",
       "        </tr>\n",
       "        <tr>\n",
       "            <td>alb      </td> <td>Albania              </td> <td>europe_central_asia     </td>\n",
       "        </tr>\n",
       "        <tr>\n",
       "            <td>dza      </td> <td>Algeria              </td> <td>middle_east_north_africa</td>\n",
       "        </tr>\n",
       "        <tr>\n",
       "            <td>asm      </td> <td>American Samoa       </td> <td>east_asia_pacific       </td>\n",
       "        </tr>\n",
       "        <tr>\n",
       "            <td>and      </td> <td>Andorra              </td> <td>europe_central_asia     </td>\n",
       "        </tr>\n",
       "        <tr>\n",
       "            <td>ago      </td> <td>Angola               </td> <td>sub_saharan_africa      </td>\n",
       "        </tr>\n",
       "        <tr>\n",
       "            <td>aia      </td> <td>Anguilla             </td> <td>america                 </td>\n",
       "        </tr>\n",
       "        <tr>\n",
       "            <td>atg      </td> <td>Antigua and Barbuda  </td> <td>america                 </td>\n",
       "        </tr>\n",
       "        <tr>\n",
       "            <td>arg      </td> <td>Argentina            </td> <td>america                 </td>\n",
       "        </tr>\n",
       "    </tbody>\n",
       "</table>\n",
       "<p>... (245 rows omitted)</p>"
      ],
      "text/plain": [
       "country   | name                  | world_6region\n",
       "afg       | Afghanistan           | south_asia\n",
       "akr_a_dhe | Akrotiri and Dhekelia | europe_central_asia\n",
       "alb       | Albania               | europe_central_asia\n",
       "dza       | Algeria               | middle_east_north_africa\n",
       "asm       | American Samoa        | east_asia_pacific\n",
       "and       | Andorra               | europe_central_asia\n",
       "ago       | Angola                | sub_saharan_africa\n",
       "aia       | Anguilla              | america\n",
       "atg       | Antigua and Barbuda   | america\n",
       "arg       | Argentina             | america\n",
       "... (245 rows omitted)"
      ]
     },
     "execution_count": 47,
     "metadata": {},
     "output_type": "execute_result"
    }
   ],
   "source": [
    "countries = Table.read_table('countries.csv').where('country', are.contained_in(population.group('geo').column('geo')))\n",
    "countries.select('country', 'name', 'world_6region')"
   ]
  },
  {
   "cell_type": "markdown",
   "metadata": {
    "deletable": false,
    "editable": false
   },
   "source": [
    "**Question 13.** Create a table called `region_counts` that has two columns, `region` and `count`. It should contain two columns: a region column and a count column that contains the number of countries in each region that appear in the result of `stats_for_year(1960)`. For example, one row would have `south_asia` as its `world_6region` value and an integer as its `count` value: the number of large South Asian countries for which we have population, fertility, and child mortality numbers from 1960.\n",
    "\n",
    "<!--\n",
    "BEGIN QUESTION\n",
    "name: q1_13\n",
    "-->"
   ]
  },
  {
   "cell_type": "code",
   "execution_count": 48,
   "metadata": {},
   "outputs": [],
   "source": [
    "the_color_yellow = stats_for_year(1960).join(\"geo\",countries,\"country\")"
   ]
  },
  {
   "cell_type": "code",
   "execution_count": 49,
   "metadata": {},
   "outputs": [
    {
     "data": {
      "text/html": [
       "<table border=\"1\" class=\"dataframe\">\n",
       "    <thead>\n",
       "        <tr>\n",
       "            <th>world_6region</th>\n",
       "        </tr>\n",
       "    </thead>\n",
       "    <tbody>\n",
       "        <tr>\n",
       "            <td>south_asia              </td>\n",
       "        </tr>\n",
       "        <tr>\n",
       "            <td>america                 </td>\n",
       "        </tr>\n",
       "        <tr>\n",
       "            <td>south_asia              </td>\n",
       "        </tr>\n",
       "        <tr>\n",
       "            <td>america                 </td>\n",
       "        </tr>\n",
       "        <tr>\n",
       "            <td>america                 </td>\n",
       "        </tr>\n",
       "        <tr>\n",
       "            <td>east_asia_pacific       </td>\n",
       "        </tr>\n",
       "        <tr>\n",
       "            <td>sub_saharan_africa      </td>\n",
       "        </tr>\n",
       "        <tr>\n",
       "            <td>america                 </td>\n",
       "        </tr>\n",
       "        <tr>\n",
       "            <td>europe_central_asia     </td>\n",
       "        </tr>\n",
       "        <tr>\n",
       "            <td>middle_east_north_africa</td>\n",
       "        </tr>\n",
       "    </tbody>\n",
       "</table>\n",
       "<p>... (40 rows omitted)</p>"
      ],
      "text/plain": [
       "world_6region\n",
       "south_asia\n",
       "america\n",
       "south_asia\n",
       "america\n",
       "america\n",
       "east_asia_pacific\n",
       "sub_saharan_africa\n",
       "america\n",
       "europe_central_asia\n",
       "middle_east_north_africa\n",
       "... (40 rows omitted)"
      ]
     },
     "execution_count": 49,
     "metadata": {},
     "output_type": "execute_result"
    }
   ],
   "source": [
    "the_color_yellow.select(\"world_6region\")"
   ]
  },
  {
   "cell_type": "code",
   "execution_count": 50,
   "metadata": {
    "deletable": false
   },
   "outputs": [
    {
     "data": {
      "text/html": [
       "<table border=\"1\" class=\"dataframe\">\n",
       "    <thead>\n",
       "        <tr>\n",
       "            <th>region</th> <th>count</th>\n",
       "        </tr>\n",
       "    </thead>\n",
       "    <tbody>\n",
       "        <tr>\n",
       "            <td>america                 </td> <td>8    </td>\n",
       "        </tr>\n",
       "        <tr>\n",
       "            <td>east_asia_pacific       </td> <td>10   </td>\n",
       "        </tr>\n",
       "        <tr>\n",
       "            <td>europe_central_asia     </td> <td>10   </td>\n",
       "        </tr>\n",
       "        <tr>\n",
       "            <td>middle_east_north_africa</td> <td>7    </td>\n",
       "        </tr>\n",
       "        <tr>\n",
       "            <td>south_asia              </td> <td>5    </td>\n",
       "        </tr>\n",
       "        <tr>\n",
       "            <td>sub_saharan_africa      </td> <td>10   </td>\n",
       "        </tr>\n",
       "    </tbody>\n",
       "</table>"
      ],
      "text/plain": [
       "region                   | count\n",
       "america                  | 8\n",
       "east_asia_pacific        | 10\n",
       "europe_central_asia      | 10\n",
       "middle_east_north_africa | 7\n",
       "south_asia               | 5\n",
       "sub_saharan_africa       | 10"
      ]
     },
     "execution_count": 50,
     "metadata": {},
     "output_type": "execute_result"
    }
   ],
   "source": [
    "region_counts = (the_color_yellow.group(\"world_6region\")).relabel(\"world_6region\",\"region\")\n",
    "region_counts"
   ]
  },
  {
   "cell_type": "code",
   "execution_count": 51,
   "metadata": {
    "deletable": false,
    "editable": false
   },
   "outputs": [
    {
     "name": "stdout",
     "output_type": "stream",
     "text": [
      "~~~~~~~~~~~~~~~~~~~~~~~~~~~~~~~~~~~~~~~~~~~~~~~~~~~~~~~~~~~~~~~~~~~~~\n",
      "Running tests\n",
      "\n",
      "---------------------------------------------------------------------\n",
      "Test summary\n",
      "    Passed: 2\n",
      "    Failed: 0\n",
      "[ooooooooook] 100.0% passed\n",
      "\n"
     ]
    }
   ],
   "source": [
    "ok.grade(\"q1_13\");"
   ]
  },
  {
   "cell_type": "markdown",
   "metadata": {
    "deletable": false,
    "editable": false
   },
   "source": [
    "The following scatter diagram compares total fertility rate and child mortality rate for each country in 1960. The area of each dot represents the population of the country, and the color represents its region of the world. Run the cell. Do you think you can identify any of the dots?"
   ]
  },
  {
   "cell_type": "code",
   "execution_count": 52,
   "metadata": {
    "deletable": false
   },
   "outputs": [
    {
     "data": {
      "image/png": "[encoded data removed]",
      "text/plain": [
       "<Figure size 360x360 with 1 Axes>"
      ]
     },
     "metadata": {},
     "output_type": "display_data"
    }
   ],
   "source": [
    "from functools import lru_cache as cache\n",
    "\n",
    "# This cache annotation makes sure that if the same year\n",
    "# is passed as an argument twice, the work of computing\n",
    "# the result is only carried out once.\n",
    "@cache(None)\n",
    "def stats_relabeled(year):\n",
    "    \"\"\"Relabeled and cached version of stats_for_year.\"\"\"\n",
    "    return stats_for_year(year).relabel(2, 'Children per woman').relabel(3, 'Child deaths per 1000 born')\n",
    "\n",
    "def fertility_vs_child_mortality(year):\n",
    "    \"\"\"Draw a color scatter diagram comparing child mortality and fertility.\"\"\"\n",
    "    with_region = stats_relabeled(year).join('geo', countries.select('country', 'world_6region'), 'country')\n",
    "    with_region.scatter(2, 3, sizes=1, group=4, s=500)\n",
    "    plots.xlim(0,10)\n",
    "    plots.ylim(-50, 500)\n",
    "    plots.title(year)\n",
    "\n",
    "fertility_vs_child_mortality(1960)"
   ]
  },
  {
   "cell_type": "markdown",
   "metadata": {
    "deletable": false,
    "editable": false
   },
   "source": [
    "**Question 14.** Assign `scatter_statements` to an array of the numbers of each statement below that can be inferred from this scatter diagram for 1960. \n",
    "1. As a whole, the `europe_central_asia` region had the lowest child mortality rate.\n",
    "1. The lowest child mortality rate of any country was from an `east_asia_pacific` country.\n",
    "1. Most countries had a fertility rate above 5.\n",
    "1. There was an association between child mortality and fertility.\n",
    "1. The two largest countries by population also had the two highest child mortality rate.\n",
    "\n",
    "<!--\n",
    "BEGIN QUESTION\n",
    "name: q1_14\n",
    "-->"
   ]
  },
  {
   "cell_type": "code",
   "execution_count": 53,
   "metadata": {
    "deletable": false
   },
   "outputs": [],
   "source": [
    "scatter_statements = make_array(1, 3, 4)\n"
   ]
  },
  {
   "cell_type": "code",
   "execution_count": 54,
   "metadata": {
    "deletable": false,
    "editable": false
   },
   "outputs": [
    {
     "name": "stdout",
     "output_type": "stream",
     "text": [
      "~~~~~~~~~~~~~~~~~~~~~~~~~~~~~~~~~~~~~~~~~~~~~~~~~~~~~~~~~~~~~~~~~~~~~\n",
      "Running tests\n",
      "\n",
      "---------------------------------------------------------------------\n",
      "Test summary\n",
      "    Passed: 1\n",
      "    Failed: 0\n",
      "[ooooooooook] 100.0% passed\n",
      "\n"
     ]
    }
   ],
   "source": [
    "ok.grade(\"q1_14\");"
   ]
  },
  {
   "cell_type": "markdown",
   "metadata": {
    "deletable": false
   },
   "source": [
    "The result of the cell below is interactive. Drag the slider to the right to see how countries have changed over time. You'll find that the great divide between so-called \"Western\" and \"developing\" countries that existed in the 1960's has nearly disappeared. This shift in fertility rates is the reason that the global population is expected to grow more slowly in the 21st century than it did in the 19th and 20th centuries.\n",
    "\n",
    "**Note:** Don't worry if a red warning pops up when running the cell below. You'll still be able to run the cell!"
   ]
  },
  {
   "cell_type": "code",
   "execution_count": 55,
   "metadata": {
    "deletable": false,
    "scrolled": false
   },
   "outputs": [
    {
     "name": "stderr",
     "output_type": "stream",
     "text": [
      "/srv/app/venv/lib/python3.6/site-packages/datascience/tables.py:193: FutureWarning: Implicit column method lookup is deprecated.\n",
      "  warnings.warn(\"Implicit column method lookup is deprecated.\", FutureWarning)\n"
     ]
    },
    {
     "data": {
      "application/vnd.jupyter.widget-view+json": {
       "model_id": "86cd9b4594264cdc922b09a0f075b493",
       "version_major": 2,
       "version_minor": 0
      },
      "text/plain": [
       "interactive(children=(IntSlider(value=1960, description='year', max=2015, min=1960), Output()), _dom_classes=(…"
      ]
     },
     "metadata": {},
     "output_type": "display_data"
    }
   ],
   "source": [
    "import ipywidgets as widgets\n",
    "\n",
    "# This part takes a few minutes to run because it \n",
    "# computes 55 tables in advance: one for each year.\n",
    "Table().with_column('Year', np.arange(1960, 2016)).apply(stats_relabeled, 'Year')\n",
    "\n",
    "_ = widgets.interact(fertility_vs_child_mortality, \n",
    "                     year=widgets.IntSlider(min=1960, max=2015, value=1960))"
   ]
  },
  {
   "cell_type": "markdown",
   "metadata": {
    "deletable": false,
    "editable": false
   },
   "source": [
    "Now is a great time to take a break and watch the same data presented by [Hans Rosling in a 2010 TEDx talk](https://www.gapminder.org/videos/reducing-child-mortality-a-moral-and-environmental-imperative) with smoother animation and witty commentary."
   ]
  },
  {
   "cell_type": "markdown",
   "metadata": {
    "deletable": false,
    "editable": false
   },
   "source": [
    "## 2. Global Poverty\n"
   ]
  },
  {
   "cell_type": "markdown",
   "metadata": {
    "deletable": false,
    "editable": false
   },
   "source": [
    "In 1800, 85% of the world's 1 billion people lived in *extreme poverty*, defined by the United Nations as \"a condition characterized by severe deprivation of basic human needs, including food, safe drinking water, sanitation facilities, health, shelter, education and information.\" A common measure of extreme poverty is a person living on less than \\$1.25 per day.\n",
    "\n",
    "In 2018, the proportion of people living in extreme poverty was estimated to be 8%. Although the world rate of extreme poverty has declined consistently for hundreds of years, the number of people living in extreme poverty is still over 600 million. The United Nations recently adopted an [ambitious goal](http://www.un.org/sustainabledevelopment/poverty/): \"By 2030, eradicate extreme poverty for all people everywhere.\"\n",
    "In this section, we will examine extreme poverty trends around the world."
   ]
  },
  {
   "cell_type": "markdown",
   "metadata": {
    "deletable": false,
    "editable": false
   },
   "source": [
    "First, load the population and poverty rate by country and year and the country descriptions. While the `population` table has values for every recent year for many countries, the `poverty` table only includes certain years for each country in which a measurement of the rate of extreme poverty was available."
   ]
  },
  {
   "cell_type": "code",
   "execution_count": 56,
   "metadata": {},
   "outputs": [
    {
     "data": {
      "text/html": [
       "<table border=\"1\" class=\"dataframe\">\n",
       "    <thead>\n",
       "        <tr>\n",
       "            <th>geo</th> <th>time</th> <th>extreme_poverty_percent_people_below_125_a_day</th>\n",
       "        </tr>\n",
       "    </thead>\n",
       "    <tbody>\n",
       "        <tr>\n",
       "            <td>alb </td> <td>1996</td> <td>0.2                                           </td>\n",
       "        </tr>\n",
       "        <tr>\n",
       "            <td>alb </td> <td>2002</td> <td>0.73                                          </td>\n",
       "        </tr>\n",
       "        <tr>\n",
       "            <td>alb </td> <td>2004</td> <td>0.53                                          </td>\n",
       "        </tr>\n",
       "        <tr>\n",
       "            <td>alb </td> <td>2005</td> <td>0.44                                          </td>\n",
       "        </tr>\n",
       "        <tr>\n",
       "            <td>alb </td> <td>2008</td> <td>0.2                                           </td>\n",
       "        </tr>\n",
       "        <tr>\n",
       "            <td>alb </td> <td>2012</td> <td>0.46                                          </td>\n",
       "        </tr>\n",
       "        <tr>\n",
       "            <td>dza </td> <td>1988</td> <td>7.1                                           </td>\n",
       "        </tr>\n",
       "        <tr>\n",
       "            <td>dza </td> <td>1995</td> <td>6.38                                          </td>\n",
       "        </tr>\n",
       "        <tr>\n",
       "            <td>ago </td> <td>2000</td> <td>54.31                                         </td>\n",
       "        </tr>\n",
       "        <tr>\n",
       "            <td>ago </td> <td>2009</td> <td>43.37                                         </td>\n",
       "        </tr>\n",
       "    </tbody>\n",
       "</table>\n",
       "<p>... (1089 rows omitted)</p>"
      ],
      "text/plain": [
       "<IPython.core.display.HTML object>"
      ]
     },
     "metadata": {},
     "output_type": "display_data"
    }
   ],
   "source": [
    "population = Table.read_table('population.csv')\n",
    "countries = Table.read_table('countries.csv').where('country', are.contained_in(population.group('geo').column('geo')))\n",
    "poverty = Table.read_table('poverty.csv')\n",
    "poverty.show(10)"
   ]
  },
  {
   "cell_type": "markdown",
   "metadata": {
    "deletable": false,
    "editable": false
   },
   "source": [
    "**Question 1.** Assign `latest_poverty` to a three-column table with one row for each country that appears in the `poverty` table. The first column should contain the 3-letter code for the country. The second column should contain the most recent year for which an extreme poverty rate is available for the country. The third column should contain the poverty rate in that year. **Do not change the last line, so that the labels of your table are set correctly.**\n",
    "\n",
    "*Hint*: think about how ```group``` works: it does a sequential search of the table (from top to bottom) and collects values in the array in the order in which they appear, and then applies a function to that array. The `first` function may be helpful, but you are not required to use it.\n",
    "\n",
    "<!--\n",
    "BEGIN QUESTION\n",
    "name: q2_1\n",
    "-->"
   ]
  },
  {
   "cell_type": "code",
   "execution_count": 57,
   "metadata": {},
   "outputs": [
    {
     "data": {
      "text/html": [
       "<table border=\"1\" class=\"dataframe\">\n",
       "    <thead>\n",
       "        <tr>\n",
       "            <th>geo</th> <th>time</th> <th>extreme_poverty_percent_people_below_125_a_day</th>\n",
       "        </tr>\n",
       "    </thead>\n",
       "    <tbody>\n",
       "        <tr>\n",
       "            <td>uga </td> <td>2013</td> <td>37.78                                         </td>\n",
       "        </tr>\n",
       "        <tr>\n",
       "            <td>vnm </td> <td>2012</td> <td>2.44                                          </td>\n",
       "        </tr>\n",
       "        <tr>\n",
       "            <td>ury </td> <td>2012</td> <td>0.31                                          </td>\n",
       "        </tr>\n",
       "        <tr>\n",
       "            <td>tza </td> <td>2012</td> <td>43.48                                         </td>\n",
       "        </tr>\n",
       "        <tr>\n",
       "            <td>rou </td> <td>2012</td> <td>0                                             </td>\n",
       "        </tr>\n",
       "        <tr>\n",
       "            <td>phl </td> <td>2012</td> <td>18.96                                         </td>\n",
       "        </tr>\n",
       "        <tr>\n",
       "            <td>per </td> <td>2012</td> <td>2.89                                          </td>\n",
       "        </tr>\n",
       "        <tr>\n",
       "            <td>pry </td> <td>2012</td> <td>3.03                                          </td>\n",
       "        </tr>\n",
       "        <tr>\n",
       "            <td>pan </td> <td>2012</td> <td>3.99                                          </td>\n",
       "        </tr>\n",
       "        <tr>\n",
       "            <td>mex </td> <td>2012</td> <td>1.03                                          </td>\n",
       "        </tr>\n",
       "    </tbody>\n",
       "</table>\n",
       "<p>... (1089 rows omitted)</p>"
      ],
      "text/plain": [
       "geo  | time | extreme_poverty_percent_people_below_125_a_day\n",
       "uga  | 2013 | 37.78\n",
       "vnm  | 2012 | 2.44\n",
       "ury  | 2012 | 0.31\n",
       "tza  | 2012 | 43.48\n",
       "rou  | 2012 | 0\n",
       "phl  | 2012 | 18.96\n",
       "per  | 2012 | 2.89\n",
       "pry  | 2012 | 3.03\n",
       "pan  | 2012 | 3.99\n",
       "mex  | 2012 | 1.03\n",
       "... (1089 rows omitted)"
      ]
     },
     "execution_count": 57,
     "metadata": {},
     "output_type": "execute_result"
    }
   ],
   "source": [
    "most_recent_year = poverty.sort(\"time\", descending = True)\n",
    "most_recent_year"
   ]
  },
  {
   "cell_type": "code",
   "execution_count": 58,
   "metadata": {
    "deletable": false,
    "scrolled": true
   },
   "outputs": [
    {
     "data": {
      "text/html": [
       "<table border=\"1\" class=\"dataframe\">\n",
       "    <thead>\n",
       "        <tr>\n",
       "            <th>geo</th> <th>time</th> <th>poverty_percent</th>\n",
       "        </tr>\n",
       "    </thead>\n",
       "    <tbody>\n",
       "        <tr>\n",
       "            <td>ago </td> <td>2009</td> <td>43.37          </td>\n",
       "        </tr>\n",
       "        <tr>\n",
       "            <td>alb </td> <td>2012</td> <td>0.46           </td>\n",
       "        </tr>\n",
       "        <tr>\n",
       "            <td>arg </td> <td>2011</td> <td>1.41           </td>\n",
       "        </tr>\n",
       "        <tr>\n",
       "            <td>arm </td> <td>2012</td> <td>1.75           </td>\n",
       "        </tr>\n",
       "        <tr>\n",
       "            <td>aus </td> <td>2003</td> <td>1.36           </td>\n",
       "        </tr>\n",
       "        <tr>\n",
       "            <td>aut </td> <td>2004</td> <td>0.34           </td>\n",
       "        </tr>\n",
       "        <tr>\n",
       "            <td>aze </td> <td>2008</td> <td>0.31           </td>\n",
       "        </tr>\n",
       "        <tr>\n",
       "            <td>bdi </td> <td>2006</td> <td>81.32          </td>\n",
       "        </tr>\n",
       "        <tr>\n",
       "            <td>bel </td> <td>2000</td> <td>0.5            </td>\n",
       "        </tr>\n",
       "        <tr>\n",
       "            <td>ben </td> <td>2012</td> <td>51.61          </td>\n",
       "        </tr>\n",
       "    </tbody>\n",
       "</table>\n",
       "<p>... (135 rows omitted)</p>"
      ],
      "text/plain": [
       "geo  | time | poverty_percent\n",
       "ago  | 2009 | 43.37\n",
       "alb  | 2012 | 0.46\n",
       "arg  | 2011 | 1.41\n",
       "arm  | 2012 | 1.75\n",
       "aus  | 2003 | 1.36\n",
       "aut  | 2004 | 0.34\n",
       "aze  | 2008 | 0.31\n",
       "bdi  | 2006 | 81.32\n",
       "bel  | 2000 | 0.5\n",
       "ben  | 2012 | 51.61\n",
       "... (135 rows omitted)"
      ]
     },
     "execution_count": 58,
     "metadata": {},
     "output_type": "execute_result"
    }
   ],
   "source": [
    "def first(values):\n",
    "    return values.item(0)\n",
    "\n",
    "latest_poverty = most_recent_year.group(\"geo\", first)\n",
    "latest_poverty = latest_poverty.relabeled(0, 'geo').relabeled(1, 'time').relabeled(2, 'poverty_percent') # You should *not* change this line.\n",
    "latest_poverty"
   ]
  },
  {
   "cell_type": "code",
   "execution_count": 59,
   "metadata": {
    "deletable": false,
    "editable": false
   },
   "outputs": [
    {
     "name": "stdout",
     "output_type": "stream",
     "text": [
      "~~~~~~~~~~~~~~~~~~~~~~~~~~~~~~~~~~~~~~~~~~~~~~~~~~~~~~~~~~~~~~~~~~~~~\n",
      "Running tests\n",
      "\n",
      "---------------------------------------------------------------------\n",
      "Test summary\n",
      "    Passed: 2\n",
      "    Failed: 0\n",
      "[ooooooooook] 100.0% passed\n",
      "\n"
     ]
    }
   ],
   "source": [
    "ok.grade(\"q2_1\");"
   ]
  },
  {
   "cell_type": "markdown",
   "metadata": {
    "deletable": false,
    "editable": false
   },
   "source": [
    "**Question 2.** Using both `latest_poverty` and `population`, create a four-column table called `recent_poverty_total` with one row for each country in `latest_poverty`. The four columns should have the following labels and contents:\n",
    "1. `geo` contains the 3-letter country code,\n",
    "1. `poverty_percent` contains the most recent poverty percent,\n",
    "1. `population_total` contains the population of the country in 2010,\n",
    "1. `poverty_total` contains the number of people in poverty **rounded to the nearest integer**, based on the 2010 population and most recent poverty rate.\n",
    "\n",
    "<!--\n",
    "BEGIN QUESTION\n",
    "name: q2_2\n",
    "-->"
   ]
  },
  {
   "cell_type": "code",
   "execution_count": 60,
   "metadata": {},
   "outputs": [
    {
     "data": {
      "text/html": [
       "<table border=\"1\" class=\"dataframe\">\n",
       "    <thead>\n",
       "        <tr>\n",
       "            <th>geo</th> <th>time</th> <th>population_total</th>\n",
       "        </tr>\n",
       "    </thead>\n",
       "    <tbody>\n",
       "        <tr>\n",
       "            <td>abw </td> <td>2010</td> <td>101597          </td>\n",
       "        </tr>\n",
       "        <tr>\n",
       "            <td>afg </td> <td>2010</td> <td>27962207        </td>\n",
       "        </tr>\n",
       "        <tr>\n",
       "            <td>ago </td> <td>2010</td> <td>21219954        </td>\n",
       "        </tr>\n",
       "        <tr>\n",
       "            <td>aia </td> <td>2010</td> <td>15358           </td>\n",
       "        </tr>\n",
       "        <tr>\n",
       "            <td>ala </td> <td>2010</td> <td>26923           </td>\n",
       "        </tr>\n",
       "        <tr>\n",
       "            <td>alb </td> <td>2010</td> <td>2901883         </td>\n",
       "        </tr>\n",
       "        <tr>\n",
       "            <td>and </td> <td>2010</td> <td>84864           </td>\n",
       "        </tr>\n",
       "        <tr>\n",
       "            <td>ant </td> <td>2010</td> <td>200689          </td>\n",
       "        </tr>\n",
       "        <tr>\n",
       "            <td>are </td> <td>2010</td> <td>8329453         </td>\n",
       "        </tr>\n",
       "        <tr>\n",
       "            <td>arg </td> <td>2010</td> <td>41222875        </td>\n",
       "        </tr>\n",
       "    </tbody>\n",
       "</table>\n",
       "<p>... (227 rows omitted)</p>"
      ],
      "text/plain": [
       "geo  | time | population_total\n",
       "abw  | 2010 | 101597\n",
       "afg  | 2010 | 27962207\n",
       "ago  | 2010 | 21219954\n",
       "aia  | 2010 | 15358\n",
       "ala  | 2010 | 26923\n",
       "alb  | 2010 | 2901883\n",
       "and  | 2010 | 84864\n",
       "ant  | 2010 | 200689\n",
       "are  | 2010 | 8329453\n",
       "arg  | 2010 | 41222875\n",
       "... (227 rows omitted)"
      ]
     },
     "execution_count": 60,
     "metadata": {},
     "output_type": "execute_result"
    }
   ],
   "source": [
    "country_population = population.where(\"time\",are.equal_to(2010))\n",
    "country_population"
   ]
  },
  {
   "cell_type": "code",
   "execution_count": 61,
   "metadata": {},
   "outputs": [
    {
     "data": {
      "text/html": [
       "<table border=\"1\" class=\"dataframe\">\n",
       "    <thead>\n",
       "        <tr>\n",
       "            <th>geo</th> <th>time</th> <th>population_total</th> <th>poverty_percent</th>\n",
       "        </tr>\n",
       "    </thead>\n",
       "    <tbody>\n",
       "        <tr>\n",
       "            <td>ago </td> <td>2010</td> <td>21219954        </td> <td>43.37          </td>\n",
       "        </tr>\n",
       "        <tr>\n",
       "            <td>alb </td> <td>2010</td> <td>2901883         </td> <td>0.46           </td>\n",
       "        </tr>\n",
       "        <tr>\n",
       "            <td>arg </td> <td>2010</td> <td>41222875        </td> <td>1.41           </td>\n",
       "        </tr>\n",
       "        <tr>\n",
       "            <td>arm </td> <td>2010</td> <td>2963496         </td> <td>1.75           </td>\n",
       "        </tr>\n",
       "        <tr>\n",
       "            <td>aus </td> <td>2010</td> <td>22162863        </td> <td>1.36           </td>\n",
       "        </tr>\n",
       "        <tr>\n",
       "            <td>aut </td> <td>2010</td> <td>8391986         </td> <td>0.34           </td>\n",
       "        </tr>\n",
       "        <tr>\n",
       "            <td>aze </td> <td>2010</td> <td>9099893         </td> <td>0.31           </td>\n",
       "        </tr>\n",
       "        <tr>\n",
       "            <td>bdi </td> <td>2010</td> <td>9461117         </td> <td>81.32          </td>\n",
       "        </tr>\n",
       "        <tr>\n",
       "            <td>bel </td> <td>2010</td> <td>10929978        </td> <td>0.5            </td>\n",
       "        </tr>\n",
       "        <tr>\n",
       "            <td>ben </td> <td>2010</td> <td>9509798         </td> <td>51.61          </td>\n",
       "        </tr>\n",
       "    </tbody>\n",
       "</table>\n",
       "<p>... (135 rows omitted)</p>"
      ],
      "text/plain": [
       "geo  | time | population_total | poverty_percent\n",
       "ago  | 2010 | 21219954         | 43.37\n",
       "alb  | 2010 | 2901883          | 0.46\n",
       "arg  | 2010 | 41222875         | 1.41\n",
       "arm  | 2010 | 2963496          | 1.75\n",
       "aus  | 2010 | 22162863         | 1.36\n",
       "aut  | 2010 | 8391986          | 0.34\n",
       "aze  | 2010 | 9099893          | 0.31\n",
       "bdi  | 2010 | 9461117          | 81.32\n",
       "bel  | 2010 | 10929978         | 0.5\n",
       "ben  | 2010 | 9509798          | 51.61\n",
       "... (135 rows omitted)"
      ]
     },
     "execution_count": 61,
     "metadata": {},
     "output_type": "execute_result"
    }
   ],
   "source": [
    "poverty_and_pop = (country_population.join(\"geo\", latest_poverty, \"geo\")).drop(\"time_2\")\n",
    "poverty_and_pop"
   ]
  },
  {
   "cell_type": "code",
   "execution_count": 62,
   "metadata": {},
   "outputs": [
    {
     "data": {
      "text/html": [
       "<table border=\"1\" class=\"dataframe\">\n",
       "    <thead>\n",
       "        <tr>\n",
       "            <th>geo</th> <th>poverty_percent</th> <th>population_total</th>\n",
       "        </tr>\n",
       "    </thead>\n",
       "    <tbody>\n",
       "        <tr>\n",
       "            <td>ago </td> <td>43.37          </td> <td>21219954        </td>\n",
       "        </tr>\n",
       "        <tr>\n",
       "            <td>alb </td> <td>0.46           </td> <td>2901883         </td>\n",
       "        </tr>\n",
       "        <tr>\n",
       "            <td>arg </td> <td>1.41           </td> <td>41222875        </td>\n",
       "        </tr>\n",
       "        <tr>\n",
       "            <td>arm </td> <td>1.75           </td> <td>2963496         </td>\n",
       "        </tr>\n",
       "        <tr>\n",
       "            <td>aus </td> <td>1.36           </td> <td>22162863        </td>\n",
       "        </tr>\n",
       "        <tr>\n",
       "            <td>aut </td> <td>0.34           </td> <td>8391986         </td>\n",
       "        </tr>\n",
       "        <tr>\n",
       "            <td>aze </td> <td>0.31           </td> <td>9099893         </td>\n",
       "        </tr>\n",
       "        <tr>\n",
       "            <td>bdi </td> <td>81.32          </td> <td>9461117         </td>\n",
       "        </tr>\n",
       "        <tr>\n",
       "            <td>bel </td> <td>0.5            </td> <td>10929978        </td>\n",
       "        </tr>\n",
       "        <tr>\n",
       "            <td>ben </td> <td>51.61          </td> <td>9509798         </td>\n",
       "        </tr>\n",
       "    </tbody>\n",
       "</table>\n",
       "<p>... (135 rows omitted)</p>"
      ],
      "text/plain": [
       "geo  | poverty_percent | population_total\n",
       "ago  | 43.37           | 21219954\n",
       "alb  | 0.46            | 2901883\n",
       "arg  | 1.41            | 41222875\n",
       "arm  | 1.75            | 2963496\n",
       "aus  | 1.36            | 22162863\n",
       "aut  | 0.34            | 8391986\n",
       "aze  | 0.31            | 9099893\n",
       "bdi  | 81.32           | 9461117\n",
       "bel  | 0.5             | 10929978\n",
       "ben  | 51.61           | 9509798\n",
       "... (135 rows omitted)"
      ]
     },
     "execution_count": 62,
     "metadata": {},
     "output_type": "execute_result"
    }
   ],
   "source": [
    "poverty_and_plop = poverty_and_pop.select(\"geo\",\"poverty_percent\",\"population_total\")\n",
    "poverty_and_plop"
   ]
  },
  {
   "cell_type": "code",
   "execution_count": 63,
   "metadata": {},
   "outputs": [
    {
     "data": {
      "text/plain": [
       "array([9.20309400e+06, 1.33490000e+04, 5.81243000e+05, 5.18610000e+04,\n",
       "       3.01415000e+05, 2.85330000e+04, 2.82100000e+04, 7.69378000e+06,\n",
       "       5.46500000e+04, 4.90800700e+06, 6.95001700e+06, 6.55742560e+07,\n",
       "       1.40739000e+05, 1.53400000e+03, 0.00000000e+00, 3.92680000e+04,\n",
       "       7.91476000e+05, 7.44803300e+06, 1.71420000e+04, 2.74614000e+05,\n",
       "       2.79277700e+06, 1.16029000e+05, 5.24650000e+04, 1.41225000e+05,\n",
       "       8.39446430e+07, 7.05415000e+06, 5.68508300e+06, 5.78414380e+07,\n",
       "       1.33448700e+06, 2.58518900e+06, 3.22168000e+05, 6.72800000e+04,\n",
       "       6.13610000e+04, 3.15200000e+03, 2.73480000e+05, 1.56440000e+05,\n",
       "       3.71910000e+04, 2.22705000e+05, 2.29910700e+06, 5.89920000e+05,\n",
       "       1.37828900e+06, 1.09047500e+06, 1.30540000e+04, 3.22139910e+07,\n",
       "       0.00000000e+00, 5.05650000e+04, 2.07772000e+05, 3.22770000e+04,\n",
       "       9.39040000e+04, 6.33439000e+05, 6.00969000e+05, 6.95244000e+06,\n",
       "       4.50077000e+06, 5.69357000e+05, 7.99122000e+05, 1.53132000e+05,\n",
       "       2.01832000e+06, 6.55420000e+04, 1.23663900e+06, 0.00000000e+00,\n",
       "       6.17076400e+06, 5.00700000e+03, 3.91413260e+07, 2.90881638e+08,\n",
       "       1.66220000e+04, 1.07667400e+06, 1.20694500e+06, 2.89390000e+04,\n",
       "       8.04438000e+05, 6.57900000e+03, 5.21400000e+03, 4.45619000e+05,\n",
       "       9.78600000e+03, 1.74903890e+07, 2.79239000e+05, 1.44354000e+06,\n",
       "       1.89444100e+06, 3.31521200e+06, 3.71820000e+04, 8.30274000e+05,\n",
       "       1.13035100e+06, 2.59200000e+04, 2.23690000e+04, 8.25169000e+05,\n",
       "       9.39400000e+03, 1.84804260e+07, 4.92200000e+03, 1.22176100e+06,\n",
       "       5.77500000e+03, 7.67616300e+06, 1.30600000e+03, 1.47655570e+07,\n",
       "       8.41465000e+05, 1.06579050e+07, 0.00000000e+00, 5.16384000e+05,\n",
       "       6.64876100e+06, 9.88911670e+07, 4.90001000e+05, 5.82100000e+04,\n",
       "       3.27710000e+04, 6.38034100e+06, 2.16635950e+07, 1.44458000e+05,\n",
       "       8.48898000e+05, 1.76401760e+07, 2.45072600e+06, 0.00000000e+00,\n",
       "       1.88159000e+05, 3.25500000e+03, 0.00000000e+00, 4.29470000e+04,\n",
       "       6.48707000e+06, 7.15074700e+06, 4.41308300e+06, 3.27089300e+06,\n",
       "       1.52769000e+05, 4.53000000e+03, 7.43840000e+04, 8.05190000e+04,\n",
       "       1.62210000e+04, 0.00000000e+00, 3.28380000e+04, 4.68907000e+05,\n",
       "       2.33000000e+02, 3.54322000e+05, 4.34455800e+06, 3.35264000e+06,\n",
       "       2.06745000e+05, 4.90536000e+05, 1.25142300e+06, 3.68618000e+05,\n",
       "       5.52490000e+04, 7.87300000e+04, 5.78480000e+04, 1.98479790e+07,\n",
       "       1.25238500e+07, 0.00000000e+00, 1.04610000e+04, 5.17493200e+06,\n",
       "       1.92241800e+06, 2.15593000e+06, 2.30729500e+06, 4.86275400e+06,\n",
       "       1.03434410e+07])"
      ]
     },
     "execution_count": 63,
     "metadata": {},
     "output_type": "execute_result"
    }
   ],
   "source": [
    "poverty_total = np.round((poverty_and_plop.column(\"population_total\")*poverty_and_plop.column(\"poverty_percent\"))/100)\n",
    "poverty_total"
   ]
  },
  {
   "cell_type": "code",
   "execution_count": 64,
   "metadata": {
    "deletable": false
   },
   "outputs": [
    {
     "data": {
      "text/html": [
       "<table border=\"1\" class=\"dataframe\">\n",
       "    <thead>\n",
       "        <tr>\n",
       "            <th>geo</th> <th>poverty_percent</th> <th>population_total</th> <th>poverty_total</th>\n",
       "        </tr>\n",
       "    </thead>\n",
       "    <tbody>\n",
       "        <tr>\n",
       "            <td>ago </td> <td>43.37          </td> <td>21219954        </td> <td>9.20309e+06  </td>\n",
       "        </tr>\n",
       "        <tr>\n",
       "            <td>alb </td> <td>0.46           </td> <td>2901883         </td> <td>13349        </td>\n",
       "        </tr>\n",
       "        <tr>\n",
       "            <td>arg </td> <td>1.41           </td> <td>41222875        </td> <td>581243       </td>\n",
       "        </tr>\n",
       "        <tr>\n",
       "            <td>arm </td> <td>1.75           </td> <td>2963496         </td> <td>51861        </td>\n",
       "        </tr>\n",
       "        <tr>\n",
       "            <td>aus </td> <td>1.36           </td> <td>22162863        </td> <td>301415       </td>\n",
       "        </tr>\n",
       "        <tr>\n",
       "            <td>aut </td> <td>0.34           </td> <td>8391986         </td> <td>28533        </td>\n",
       "        </tr>\n",
       "        <tr>\n",
       "            <td>aze </td> <td>0.31           </td> <td>9099893         </td> <td>28210        </td>\n",
       "        </tr>\n",
       "        <tr>\n",
       "            <td>bdi </td> <td>81.32          </td> <td>9461117         </td> <td>7.69378e+06  </td>\n",
       "        </tr>\n",
       "        <tr>\n",
       "            <td>bel </td> <td>0.5            </td> <td>10929978        </td> <td>54650        </td>\n",
       "        </tr>\n",
       "        <tr>\n",
       "            <td>ben </td> <td>51.61          </td> <td>9509798         </td> <td>4.90801e+06  </td>\n",
       "        </tr>\n",
       "    </tbody>\n",
       "</table>\n",
       "<p>... (135 rows omitted)</p>"
      ],
      "text/plain": [
       "geo  | poverty_percent | population_total | poverty_total\n",
       "ago  | 43.37           | 21219954         | 9.20309e+06\n",
       "alb  | 0.46            | 2901883          | 13349\n",
       "arg  | 1.41            | 41222875         | 581243\n",
       "arm  | 1.75            | 2963496          | 51861\n",
       "aus  | 1.36            | 22162863         | 301415\n",
       "aut  | 0.34            | 8391986          | 28533\n",
       "aze  | 0.31            | 9099893          | 28210\n",
       "bdi  | 81.32           | 9461117          | 7.69378e+06\n",
       "bel  | 0.5             | 10929978         | 54650\n",
       "ben  | 51.61           | 9509798          | 4.90801e+06\n",
       "... (135 rows omitted)"
      ]
     },
     "execution_count": 64,
     "metadata": {},
     "output_type": "execute_result"
    }
   ],
   "source": [
    "recent_poverty_total = poverty_and_plop.with_columns(\"poverty_total\",poverty_total)\n",
    "recent_poverty_total\n"
   ]
  },
  {
   "cell_type": "code",
   "execution_count": 65,
   "metadata": {
    "deletable": false,
    "editable": false
   },
   "outputs": [
    {
     "name": "stdout",
     "output_type": "stream",
     "text": [
      "~~~~~~~~~~~~~~~~~~~~~~~~~~~~~~~~~~~~~~~~~~~~~~~~~~~~~~~~~~~~~~~~~~~~~\n",
      "Running tests\n",
      "\n",
      "---------------------------------------------------------------------\n",
      "Test summary\n",
      "    Passed: 3\n",
      "    Failed: 0\n",
      "[ooooooooook] 100.0% passed\n",
      "\n"
     ]
    }
   ],
   "source": [
    "ok.grade(\"q2_2\");"
   ]
  },
  {
   "cell_type": "markdown",
   "metadata": {
    "deletable": false,
    "editable": false
   },
   "source": [
    "**Question 3.** Assign the name `poverty_percent` to the known percentage of the world’s 2010 population that were living in extreme poverty. Assume that the `poverty_total` numbers in the `recent_poverty_total` table describe **all** people in 2010 living in extreme poverty. You should find a number that is above the 2018 global estimate of 8%, since many country-specific poverty rates are older than 2018.\n",
    "\n",
    "*Hint*: The sum of the `population_total` column in the `recent_poverty_total` table is not the world population, because only a subset of the world's countries are included in the `recent_poverty_total` table (only some countries have known poverty rates). Use the `population` table to compute the world's 2010 total population..\n",
    "\n",
    "<!--\n",
    "BEGIN QUESTION\n",
    "name: q2_3\n",
    "-->"
   ]
  },
  {
   "cell_type": "code",
   "execution_count": 66,
   "metadata": {
    "deletable": false
   },
   "outputs": [
    {
     "data": {
      "text/plain": [
       "14.299370218520854"
      ]
     },
     "execution_count": 66,
     "metadata": {},
     "output_type": "execute_result"
    }
   ],
   "source": [
    "poverty_percent = (sum(recent_poverty_total.column(\"poverty_total\"))/sum(country_population.column(\"population_total\")))*100\n",
    "poverty_percent\n"
   ]
  },
  {
   "cell_type": "code",
   "execution_count": 67,
   "metadata": {
    "deletable": false,
    "editable": false
   },
   "outputs": [
    {
     "name": "stdout",
     "output_type": "stream",
     "text": [
      "~~~~~~~~~~~~~~~~~~~~~~~~~~~~~~~~~~~~~~~~~~~~~~~~~~~~~~~~~~~~~~~~~~~~~\n",
      "Running tests\n",
      "\n",
      "---------------------------------------------------------------------\n",
      "Test summary\n",
      "    Passed: 1\n",
      "    Failed: 0\n",
      "[ooooooooook] 100.0% passed\n",
      "\n"
     ]
    }
   ],
   "source": [
    "ok.grade(\"q2_3\");"
   ]
  },
  {
   "cell_type": "markdown",
   "metadata": {
    "deletable": false,
    "editable": false
   },
   "source": [
    "The `countries` table includes not only the name and region of countries, but also their positions on the globe."
   ]
  },
  {
   "cell_type": "code",
   "execution_count": 68,
   "metadata": {
    "deletable": false,
    "editable": false
   },
   "outputs": [
    {
     "data": {
      "text/html": [
       "<table border=\"1\" class=\"dataframe\">\n",
       "    <thead>\n",
       "        <tr>\n",
       "            <th>country</th> <th>name</th> <th>world_4region</th> <th>latitude</th> <th>longitude</th>\n",
       "        </tr>\n",
       "    </thead>\n",
       "    <tbody>\n",
       "        <tr>\n",
       "            <td>afg      </td> <td>Afghanistan          </td> <td>asia         </td> <td>33      </td> <td>66       </td>\n",
       "        </tr>\n",
       "        <tr>\n",
       "            <td>akr_a_dhe</td> <td>Akrotiri and Dhekelia</td> <td>europe       </td> <td>nan     </td> <td>nan      </td>\n",
       "        </tr>\n",
       "        <tr>\n",
       "            <td>alb      </td> <td>Albania              </td> <td>europe       </td> <td>41      </td> <td>20       </td>\n",
       "        </tr>\n",
       "        <tr>\n",
       "            <td>dza      </td> <td>Algeria              </td> <td>africa       </td> <td>28      </td> <td>3        </td>\n",
       "        </tr>\n",
       "        <tr>\n",
       "            <td>asm      </td> <td>American Samoa       </td> <td>asia         </td> <td>-11.056 </td> <td>-171.082 </td>\n",
       "        </tr>\n",
       "        <tr>\n",
       "            <td>and      </td> <td>Andorra              </td> <td>europe       </td> <td>42.5078 </td> <td>1.52109  </td>\n",
       "        </tr>\n",
       "        <tr>\n",
       "            <td>ago      </td> <td>Angola               </td> <td>africa       </td> <td>-12.5   </td> <td>18.5     </td>\n",
       "        </tr>\n",
       "        <tr>\n",
       "            <td>aia      </td> <td>Anguilla             </td> <td>americas     </td> <td>18.2167 </td> <td>-63.05   </td>\n",
       "        </tr>\n",
       "        <tr>\n",
       "            <td>atg      </td> <td>Antigua and Barbuda  </td> <td>americas     </td> <td>17.05   </td> <td>-61.8    </td>\n",
       "        </tr>\n",
       "        <tr>\n",
       "            <td>arg      </td> <td>Argentina            </td> <td>americas     </td> <td>-34     </td> <td>-64      </td>\n",
       "        </tr>\n",
       "    </tbody>\n",
       "</table>\n",
       "<p>... (245 rows omitted)</p>"
      ],
      "text/plain": [
       "country   | name                  | world_4region | latitude | longitude\n",
       "afg       | Afghanistan           | asia          | 33       | 66\n",
       "akr_a_dhe | Akrotiri and Dhekelia | europe        | nan      | nan\n",
       "alb       | Albania               | europe        | 41       | 20\n",
       "dza       | Algeria               | africa        | 28       | 3\n",
       "asm       | American Samoa        | asia          | -11.056  | -171.082\n",
       "and       | Andorra               | europe        | 42.5078  | 1.52109\n",
       "ago       | Angola                | africa        | -12.5    | 18.5\n",
       "aia       | Anguilla              | americas      | 18.2167  | -63.05\n",
       "atg       | Antigua and Barbuda   | americas      | 17.05    | -61.8\n",
       "arg       | Argentina             | americas      | -34      | -64\n",
       "... (245 rows omitted)"
      ]
     },
     "execution_count": 68,
     "metadata": {},
     "output_type": "execute_result"
    }
   ],
   "source": [
    "countries.select('country', 'name', 'world_4region', 'latitude', 'longitude')"
   ]
  },
  {
   "cell_type": "markdown",
   "metadata": {
    "deletable": false,
    "editable": false
   },
   "source": [
    "**Question 4.** Using both `countries` and `recent_poverty_total`, create a five-column table called `poverty_map` with one row for every country in `recent_poverty_total`.  The five columns should have the following labels and contents:\n",
    "1. `latitude` contains the country's latitude,\n",
    "1. `longitude` contains the country's longitude,\n",
    "1. `name` contains the country's name,\n",
    "1. `region` contains the country's region from the `world_4region` column of `countries`,\n",
    "1. `poverty_total` contains the country's poverty total.\n",
    "\n",
    "<!--\n",
    "BEGIN QUESTION\n",
    "name: q2_4\n",
    "-->"
   ]
  },
  {
   "cell_type": "code",
   "execution_count": 69,
   "metadata": {
    "deletable": false
   },
   "outputs": [
    {
     "data": {
      "text/html": [
       "<table border=\"1\" class=\"dataframe\">\n",
       "    <thead>\n",
       "        <tr>\n",
       "            <th>latitude</th> <th>longitude</th> <th>name</th> <th>region</th> <th>poverty_total</th>\n",
       "        </tr>\n",
       "    </thead>\n",
       "    <tbody>\n",
       "        <tr>\n",
       "            <td>-12.5   </td> <td>18.5     </td> <td>Angola    </td> <td>africa  </td> <td>9.20309e+06  </td>\n",
       "        </tr>\n",
       "        <tr>\n",
       "            <td>41      </td> <td>20       </td> <td>Albania   </td> <td>europe  </td> <td>13349        </td>\n",
       "        </tr>\n",
       "        <tr>\n",
       "            <td>-34     </td> <td>-64      </td> <td>Argentina </td> <td>americas</td> <td>581243       </td>\n",
       "        </tr>\n",
       "        <tr>\n",
       "            <td>40.25   </td> <td>45       </td> <td>Armenia   </td> <td>europe  </td> <td>51861        </td>\n",
       "        </tr>\n",
       "        <tr>\n",
       "            <td>-25     </td> <td>135      </td> <td>Australia </td> <td>asia    </td> <td>301415       </td>\n",
       "        </tr>\n",
       "        <tr>\n",
       "            <td>47.3333 </td> <td>13.3333  </td> <td>Austria   </td> <td>europe  </td> <td>28533        </td>\n",
       "        </tr>\n",
       "        <tr>\n",
       "            <td>40.5    </td> <td>47.5     </td> <td>Azerbaijan</td> <td>europe  </td> <td>28210        </td>\n",
       "        </tr>\n",
       "        <tr>\n",
       "            <td>-3.5    </td> <td>30       </td> <td>Burundi   </td> <td>africa  </td> <td>7.69378e+06  </td>\n",
       "        </tr>\n",
       "        <tr>\n",
       "            <td>50.75   </td> <td>4.5      </td> <td>Belgium   </td> <td>europe  </td> <td>54650        </td>\n",
       "        </tr>\n",
       "        <tr>\n",
       "            <td>9.5     </td> <td>2.25     </td> <td>Benin     </td> <td>africa  </td> <td>4.90801e+06  </td>\n",
       "        </tr>\n",
       "    </tbody>\n",
       "</table>\n",
       "<p>... (135 rows omitted)</p>"
      ],
      "text/plain": [
       "latitude | longitude | name       | region   | poverty_total\n",
       "-12.5    | 18.5      | Angola     | africa   | 9.20309e+06\n",
       "41       | 20        | Albania    | europe   | 13349\n",
       "-34      | -64       | Argentina  | americas | 581243\n",
       "40.25    | 45        | Armenia    | europe   | 51861\n",
       "-25      | 135       | Australia  | asia     | 301415\n",
       "47.3333  | 13.3333   | Austria    | europe   | 28533\n",
       "40.5     | 47.5      | Azerbaijan | europe   | 28210\n",
       "-3.5     | 30        | Burundi    | africa   | 7.69378e+06\n",
       "50.75    | 4.5       | Belgium    | europe   | 54650\n",
       "9.5      | 2.25      | Benin      | africa   | 4.90801e+06\n",
       "... (135 rows omitted)"
      ]
     },
     "execution_count": 69,
     "metadata": {},
     "output_type": "execute_result"
    }
   ],
   "source": [
    "poverty_map = (recent_poverty_total.join(\"geo\",countries,\"country\")).select(\"latitude\",\"longitude\",\"name\",\"world_4region\",\"poverty_total\").relabel(\"world_4region\",\"region\")\n",
    "poverty_map"
   ]
  },
  {
   "cell_type": "code",
   "execution_count": 70,
   "metadata": {
    "deletable": false,
    "editable": false
   },
   "outputs": [
    {
     "name": "stdout",
     "output_type": "stream",
     "text": [
      "~~~~~~~~~~~~~~~~~~~~~~~~~~~~~~~~~~~~~~~~~~~~~~~~~~~~~~~~~~~~~~~~~~~~~\n",
      "Running tests\n",
      "\n",
      "---------------------------------------------------------------------\n",
      "Test summary\n",
      "    Passed: 2\n",
      "    Failed: 0\n",
      "[ooooooooook] 100.0% passed\n",
      "\n"
     ]
    }
   ],
   "source": [
    "ok.grade(\"q2_4\");"
   ]
  },
  {
   "cell_type": "markdown",
   "metadata": {
    "deletable": false,
    "editable": false
   },
   "source": [
    "Run the cell below to draw a map of the world in which the areas of circles represent the number of people living in extreme poverty. Double-click on the map to zoom in."
   ]
  },
  {
   "cell_type": "code",
   "execution_count": 71,
   "metadata": {
    "deletable": false,
    "editable": false
   },
   "outputs": [
    {
     "data": {
      "text/html": [
       "<div style=\"width:100%;\"><div style=\"position:relative;width:100%;height:0;padding-bottom:60%;\"><span style=\"color:#565656\">Make this Notebook Trusted to load map: File -> Trust Notebook</span><iframe src=\"about:blank\" style=\"position:absolute;width:100%;height:100%;left:0;top:0;border:none !important;\" data-html=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 onload=\"this.contentDocument.open();this.contentDocument.write(atob(this.getAttribute('data-html')));this.contentDocument.close();\" allowfullscreen webkitallowfullscreen mozallowfullscreen></iframe></div></div>"
      ],
      "text/plain": [
       "<datascience.maps.Map at 0x7fb0586be278>"
      ]
     },
     "execution_count": 71,
     "metadata": {},
     "output_type": "execute_result"
    }
   ],
   "source": [
    "# It may take a few seconds to generate this map.\n",
    "colors = {'africa': 'blue', 'europe': 'black', 'asia': 'red', 'americas': 'green'}\n",
    "scaled = poverty_map.with_columns(\n",
    "    'poverty_total', 1e-4 * poverty_map.column('poverty_total'),\n",
    "    'region', poverty_map.apply(colors.get, 'region')\n",
    ")\n",
    "Circle.map_table(scaled)"
   ]
  },
  {
   "cell_type": "markdown",
   "metadata": {
    "deletable": false,
    "editable": false
   },
   "source": [
    "Although people live in extreme poverty throughout the world (with more than 5 million in the United States), the largest numbers are in Asia and Africa."
   ]
  },
  {
   "cell_type": "markdown",
   "metadata": {
    "deletable": false,
    "editable": false
   },
   "source": [
    "**Question 5.** Assign `largest` to a two-column table with the `name` (not the 3-letter code) and `poverty_total` of the 10 countries with the largest number of people living in extreme poverty.\n",
    "\n",
    "<!--\n",
    "BEGIN QUESTION\n",
    "name: q2_5\n",
    "-->"
   ]
  },
  {
   "cell_type": "code",
   "execution_count": 72,
   "metadata": {
    "deletable": false
   },
   "outputs": [
    {
     "data": {
      "text/html": [
       "<table border=\"1\" class=\"dataframe\">\n",
       "    <thead>\n",
       "        <tr>\n",
       "            <th>name</th> <th>poverty_total</th>\n",
       "        </tr>\n",
       "    </thead>\n",
       "    <tbody>\n",
       "        <tr>\n",
       "            <td>India           </td> <td>290,881,638.00</td>\n",
       "        </tr>\n",
       "        <tr>\n",
       "            <td>Nigeria         </td> <td>98,891,167.00 </td>\n",
       "        </tr>\n",
       "        <tr>\n",
       "            <td>China           </td> <td>83,944,643.00 </td>\n",
       "        </tr>\n",
       "        <tr>\n",
       "            <td>Bangladesh      </td> <td>65,574,256.00 </td>\n",
       "        </tr>\n",
       "        <tr>\n",
       "            <td>Congo, Dem. Rep.</td> <td>57,841,438.00 </td>\n",
       "        </tr>\n",
       "        <tr>\n",
       "            <td>Indonesia       </td> <td>39,141,326.00 </td>\n",
       "        </tr>\n",
       "        <tr>\n",
       "            <td>Ethiopia        </td> <td>32,213,991.00 </td>\n",
       "        </tr>\n",
       "        <tr>\n",
       "            <td>Pakistan        </td> <td>21,663,595.00 </td>\n",
       "        </tr>\n",
       "        <tr>\n",
       "            <td>Tanzania        </td> <td>19,847,979.00 </td>\n",
       "        </tr>\n",
       "        <tr>\n",
       "            <td>Madagascar      </td> <td>18,480,426.00 </td>\n",
       "        </tr>\n",
       "    </tbody>\n",
       "</table>"
      ],
      "text/plain": [
       "name             | poverty_total\n",
       "India            | 290,881,638.00\n",
       "Nigeria          | 98,891,167.00\n",
       "China            | 83,944,643.00\n",
       "Bangladesh       | 65,574,256.00\n",
       "Congo, Dem. Rep. | 57,841,438.00\n",
       "Indonesia        | 39,141,326.00\n",
       "Ethiopia         | 32,213,991.00\n",
       "Pakistan         | 21,663,595.00\n",
       "Tanzania         | 19,847,979.00\n",
       "Madagascar       | 18,480,426.00"
      ]
     },
     "execution_count": 72,
     "metadata": {},
     "output_type": "execute_result"
    }
   ],
   "source": [
    "largest = ((poverty_map.select(\"name\",\"poverty_total\")).sort(\"poverty_total\", descending = True)).take(np.arange(0,10))\n",
    "largest.set_format('poverty_total', NumberFormatter)"
   ]
  },
  {
   "cell_type": "code",
   "execution_count": 73,
   "metadata": {
    "deletable": false,
    "editable": false
   },
   "outputs": [
    {
     "name": "stdout",
     "output_type": "stream",
     "text": [
      "~~~~~~~~~~~~~~~~~~~~~~~~~~~~~~~~~~~~~~~~~~~~~~~~~~~~~~~~~~~~~~~~~~~~~\n",
      "Running tests\n",
      "\n",
      "---------------------------------------------------------------------\n",
      "Test summary\n",
      "    Passed: 3\n",
      "    Failed: 0\n",
      "[ooooooooook] 100.0% passed\n",
      "\n"
     ]
    }
   ],
   "source": [
    "ok.grade(\"q2_5\");"
   ]
  },
  {
   "cell_type": "markdown",
   "metadata": {
    "deletable": false
   },
   "source": [
    "**Question 6.** Write a function called `poverty_timeline` that takes **the name of a country** as its argument. It should draw a line plot of the number of people living in poverty in that country with time on the horizontal axis. The line plot should have a point for each row in the `poverty` table for that country. To compute the population living in poverty from a poverty percentage, multiply by the population of the country **in that year**.\n",
    "\n",
    "*Hint:* This question is long. Feel free to create cells and experiment. "
   ]
  },
  {
   "cell_type": "code",
   "execution_count": 74,
   "metadata": {},
   "outputs": [
    {
     "data": {
      "text/plain": [
       "array([3092034])"
      ]
     },
     "execution_count": 74,
     "metadata": {},
     "output_type": "execute_result"
    }
   ],
   "source": [
    "def population_of(year, geo):\n",
    "    population_for_year = population.where(\"time\",are.equal_to(year))\n",
    "    place_for_population = population.where(\"geo\",are.equal_to(geo))\n",
    "    return (population_for_year.where(\"geo\",are.equal_to(geo)).column(\"population_total\"))\n",
    "\n",
    "population_of(1996, \"alb\")"
   ]
  },
  {
   "cell_type": "code",
   "execution_count": 76,
   "metadata": {},
   "outputs": [
    {
     "data": {
      "text/html": [
       "<table border=\"1\" class=\"dataframe\">\n",
       "    <thead>\n",
       "        <tr>\n",
       "            <th>geo</th> <th>time</th> <th>extreme_poverty_percent_people_below_125_a_day</th>\n",
       "        </tr>\n",
       "    </thead>\n",
       "    <tbody>\n",
       "        <tr>\n",
       "            <td>ago </td> <td>2000</td> <td>54.31                                         </td>\n",
       "        </tr>\n",
       "        <tr>\n",
       "            <td>ago </td> <td>2009</td> <td>43.37                                         </td>\n",
       "        </tr>\n",
       "        <tr>\n",
       "            <td>alb </td> <td>1996</td> <td>0.2                                           </td>\n",
       "        </tr>\n",
       "        <tr>\n",
       "            <td>alb </td> <td>2002</td> <td>0.73                                          </td>\n",
       "        </tr>\n",
       "        <tr>\n",
       "            <td>alb </td> <td>2004</td> <td>0.53                                          </td>\n",
       "        </tr>\n",
       "        <tr>\n",
       "            <td>alb </td> <td>2005</td> <td>0.44                                          </td>\n",
       "        </tr>\n",
       "        <tr>\n",
       "            <td>alb </td> <td>2008</td> <td>0.2                                           </td>\n",
       "        </tr>\n",
       "        <tr>\n",
       "            <td>alb </td> <td>2012</td> <td>0.46                                          </td>\n",
       "        </tr>\n",
       "        <tr>\n",
       "            <td>arg </td> <td>1986</td> <td>0                                             </td>\n",
       "        </tr>\n",
       "        <tr>\n",
       "            <td>arg </td> <td>1987</td> <td>0                                             </td>\n",
       "        </tr>\n",
       "    </tbody>\n",
       "</table>\n",
       "<p>... (1089 rows omitted)</p>"
      ],
      "text/plain": [
       "geo  | time | extreme_poverty_percent_people_below_125_a_day\n",
       "ago  | 2000 | 54.31\n",
       "ago  | 2009 | 43.37\n",
       "alb  | 1996 | 0.2\n",
       "alb  | 2002 | 0.73\n",
       "alb  | 2004 | 0.53\n",
       "alb  | 2005 | 0.44\n",
       "alb  | 2008 | 0.2\n",
       "alb  | 2012 | 0.46\n",
       "arg  | 1986 | 0\n",
       "arg  | 1987 | 0\n",
       "... (1089 rows omitted)"
      ]
     },
     "execution_count": 76,
     "metadata": {},
     "output_type": "execute_result"
    }
   ],
   "source": [
    "poverty.sort(\"geo\")"
   ]
  },
  {
   "cell_type": "code",
   "execution_count": 77,
   "metadata": {},
   "outputs": [
    {
     "data": {
      "text/html": [
       "<table border=\"1\" class=\"dataframe\">\n",
       "    <thead>\n",
       "        <tr>\n",
       "            <th>country</th> <th>name</th> <th>time</th> <th>poverty_percent</th> <th>time_2</th> <th>population_total</th>\n",
       "        </tr>\n",
       "    </thead>\n",
       "    <tbody>\n",
       "        <tr>\n",
       "            <td>ago    </td> <td>Angola</td> <td>2000</td> <td>54.31          </td> <td>1800  </td> <td>1567028         </td>\n",
       "        </tr>\n",
       "        <tr>\n",
       "            <td>ago    </td> <td>Angola</td> <td>2000</td> <td>54.31          </td> <td>1801  </td> <td>1567028         </td>\n",
       "        </tr>\n",
       "        <tr>\n",
       "            <td>ago    </td> <td>Angola</td> <td>2000</td> <td>54.31          </td> <td>1802  </td> <td>1567028         </td>\n",
       "        </tr>\n",
       "        <tr>\n",
       "            <td>ago    </td> <td>Angola</td> <td>2000</td> <td>54.31          </td> <td>1803  </td> <td>1567028         </td>\n",
       "        </tr>\n",
       "        <tr>\n",
       "            <td>ago    </td> <td>Angola</td> <td>2000</td> <td>54.31          </td> <td>1804  </td> <td>1567028         </td>\n",
       "        </tr>\n",
       "        <tr>\n",
       "            <td>ago    </td> <td>Angola</td> <td>2000</td> <td>54.31          </td> <td>1805  </td> <td>1567028         </td>\n",
       "        </tr>\n",
       "        <tr>\n",
       "            <td>ago    </td> <td>Angola</td> <td>2000</td> <td>54.31          </td> <td>1806  </td> <td>1567028         </td>\n",
       "        </tr>\n",
       "        <tr>\n",
       "            <td>ago    </td> <td>Angola</td> <td>2000</td> <td>54.31          </td> <td>1807  </td> <td>1567028         </td>\n",
       "        </tr>\n",
       "        <tr>\n",
       "            <td>ago    </td> <td>Angola</td> <td>2000</td> <td>54.31          </td> <td>1808  </td> <td>1567028         </td>\n",
       "        </tr>\n",
       "        <tr>\n",
       "            <td>ago    </td> <td>Angola</td> <td>2000</td> <td>54.31          </td> <td>1809  </td> <td>1567028         </td>\n",
       "        </tr>\n",
       "    </tbody>\n",
       "</table>\n",
       "<p>... (409053 rows omitted)</p>"
      ],
      "text/plain": [
       "country | name   | time | poverty_percent | time_2 | population_total\n",
       "ago     | Angola | 2000 | 54.31           | 1800   | 1567028\n",
       "ago     | Angola | 2000 | 54.31           | 1801   | 1567028\n",
       "ago     | Angola | 2000 | 54.31           | 1802   | 1567028\n",
       "ago     | Angola | 2000 | 54.31           | 1803   | 1567028\n",
       "ago     | Angola | 2000 | 54.31           | 1804   | 1567028\n",
       "ago     | Angola | 2000 | 54.31           | 1805   | 1567028\n",
       "ago     | Angola | 2000 | 54.31           | 1806   | 1567028\n",
       "ago     | Angola | 2000 | 54.31           | 1807   | 1567028\n",
       "ago     | Angola | 2000 | 54.31           | 1808   | 1567028\n",
       "ago     | Angola | 2000 | 54.31           | 1809   | 1567028\n",
       "... (409053 rows omitted)"
      ]
     },
     "execution_count": 77,
     "metadata": {},
     "output_type": "execute_result"
    }
   ],
   "source": [
    "foot_cream = (countries.select(\"name\",\"country\").join(\"country\",poverty,\"geo\")).join(\"country\",population,\"geo\").relabel(\"extreme_poverty_percent_people_below_125_a_day\",\"poverty_percent\")\n",
    "foot_cream"
   ]
  },
  {
   "cell_type": "code",
   "execution_count": 78,
   "metadata": {},
   "outputs": [
    {
     "data": {
      "text/html": [
       "<table border=\"1\" class=\"dataframe\">\n",
       "    <thead>\n",
       "        <tr>\n",
       "            <th>country</th> <th>name</th> <th>time</th> <th>poverty_percent</th> <th>time_2</th> <th>population_total</th>\n",
       "        </tr>\n",
       "    </thead>\n",
       "    <tbody>\n",
       "        <tr>\n",
       "            <td>ago    </td> <td>Angola   </td> <td>2000</td> <td>54.31          </td> <td>2000  </td> <td>15058638        </td>\n",
       "        </tr>\n",
       "        <tr>\n",
       "            <td>ago    </td> <td>Angola   </td> <td>2009</td> <td>43.37          </td> <td>2009  </td> <td>20520103        </td>\n",
       "        </tr>\n",
       "        <tr>\n",
       "            <td>alb    </td> <td>Albania  </td> <td>1996</td> <td>0.2            </td> <td>1996  </td> <td>3092034         </td>\n",
       "        </tr>\n",
       "        <tr>\n",
       "            <td>alb    </td> <td>Albania  </td> <td>2002</td> <td>0.73           </td> <td>2002  </td> <td>3123112         </td>\n",
       "        </tr>\n",
       "        <tr>\n",
       "            <td>alb    </td> <td>Albania  </td> <td>2004</td> <td>0.53           </td> <td>2004  </td> <td>3103758         </td>\n",
       "        </tr>\n",
       "        <tr>\n",
       "            <td>alb    </td> <td>Albania  </td> <td>2005</td> <td>0.44           </td> <td>2005  </td> <td>3082172         </td>\n",
       "        </tr>\n",
       "        <tr>\n",
       "            <td>alb    </td> <td>Albania  </td> <td>2008</td> <td>0.2            </td> <td>2008  </td> <td>2968026         </td>\n",
       "        </tr>\n",
       "        <tr>\n",
       "            <td>alb    </td> <td>Albania  </td> <td>2012</td> <td>0.46           </td> <td>2012  </td> <td>2880667         </td>\n",
       "        </tr>\n",
       "        <tr>\n",
       "            <td>arg    </td> <td>Argentina</td> <td>1986</td> <td>0              </td> <td>1986  </td> <td>30857242        </td>\n",
       "        </tr>\n",
       "        <tr>\n",
       "            <td>arg    </td> <td>Argentina</td> <td>1987</td> <td>0              </td> <td>1987  </td> <td>31326473        </td>\n",
       "        </tr>\n",
       "    </tbody>\n",
       "</table>\n",
       "<p>... (1089 rows omitted)</p>"
      ],
      "text/plain": [
       "country | name      | time | poverty_percent | time_2 | population_total\n",
       "ago     | Angola    | 2000 | 54.31           | 2000   | 15058638\n",
       "ago     | Angola    | 2009 | 43.37           | 2009   | 20520103\n",
       "alb     | Albania   | 1996 | 0.2             | 1996   | 3092034\n",
       "alb     | Albania   | 2002 | 0.73            | 2002   | 3123112\n",
       "alb     | Albania   | 2004 | 0.53            | 2004   | 3103758\n",
       "alb     | Albania   | 2005 | 0.44            | 2005   | 3082172\n",
       "alb     | Albania   | 2008 | 0.2             | 2008   | 2968026\n",
       "alb     | Albania   | 2012 | 0.46            | 2012   | 2880667\n",
       "arg     | Argentina | 1986 | 0               | 1986   | 30857242\n",
       "arg     | Argentina | 1987 | 0               | 1987   | 31326473\n",
       "... (1089 rows omitted)"
      ]
     },
     "execution_count": 78,
     "metadata": {},
     "output_type": "execute_result"
    }
   ],
   "source": [
    "foot_fungi = foot_cream.where(foot_cream.column(\"time\")==foot_cream.column(\"time_2\"))\n",
    "foot_fungi"
   ]
  },
  {
   "cell_type": "code",
   "execution_count": 79,
   "metadata": {},
   "outputs": [
    {
     "data": {
      "text/plain": [
       "array([8.17834630e+06, 8.89956867e+06, 6.18406800e+03, ...,\n",
       "       7.53841074e+06, 8.48257182e+06, 1.03434407e+07])"
      ]
     },
     "execution_count": 79,
     "metadata": {},
     "output_type": "execute_result"
    }
   ],
   "source": [
    "poverty_total = (foot_fungi.column(\"poverty_percent\")*foot_fungi.column(\"population_total\"))/100\n",
    "poverty_total"
   ]
  },
  {
   "cell_type": "code",
   "execution_count": 80,
   "metadata": {},
   "outputs": [
    {
     "data": {
      "text/html": [
       "<table border=\"1\" class=\"dataframe\">\n",
       "    <thead>\n",
       "        <tr>\n",
       "            <th>country</th> <th>name</th> <th>time</th> <th>poverty_percent</th> <th>time_2</th> <th>population_total</th> <th>poverty_total</th>\n",
       "        </tr>\n",
       "    </thead>\n",
       "    <tbody>\n",
       "        <tr>\n",
       "            <td>ago    </td> <td>Angola   </td> <td>2000</td> <td>54.31          </td> <td>2000  </td> <td>15058638        </td> <td>8.17835e+06  </td>\n",
       "        </tr>\n",
       "        <tr>\n",
       "            <td>ago    </td> <td>Angola   </td> <td>2009</td> <td>43.37          </td> <td>2009  </td> <td>20520103        </td> <td>8.89957e+06  </td>\n",
       "        </tr>\n",
       "        <tr>\n",
       "            <td>alb    </td> <td>Albania  </td> <td>1996</td> <td>0.2            </td> <td>1996  </td> <td>3092034         </td> <td>6184.07      </td>\n",
       "        </tr>\n",
       "        <tr>\n",
       "            <td>alb    </td> <td>Albania  </td> <td>2002</td> <td>0.73           </td> <td>2002  </td> <td>3123112         </td> <td>22798.7      </td>\n",
       "        </tr>\n",
       "        <tr>\n",
       "            <td>alb    </td> <td>Albania  </td> <td>2004</td> <td>0.53           </td> <td>2004  </td> <td>3103758         </td> <td>16449.9      </td>\n",
       "        </tr>\n",
       "        <tr>\n",
       "            <td>alb    </td> <td>Albania  </td> <td>2005</td> <td>0.44           </td> <td>2005  </td> <td>3082172         </td> <td>13561.6      </td>\n",
       "        </tr>\n",
       "        <tr>\n",
       "            <td>alb    </td> <td>Albania  </td> <td>2008</td> <td>0.2            </td> <td>2008  </td> <td>2968026         </td> <td>5936.05      </td>\n",
       "        </tr>\n",
       "        <tr>\n",
       "            <td>alb    </td> <td>Albania  </td> <td>2012</td> <td>0.46           </td> <td>2012  </td> <td>2880667         </td> <td>13251.1      </td>\n",
       "        </tr>\n",
       "        <tr>\n",
       "            <td>arg    </td> <td>Argentina</td> <td>1986</td> <td>0              </td> <td>1986  </td> <td>30857242        </td> <td>0            </td>\n",
       "        </tr>\n",
       "        <tr>\n",
       "            <td>arg    </td> <td>Argentina</td> <td>1987</td> <td>0              </td> <td>1987  </td> <td>31326473        </td> <td>0            </td>\n",
       "        </tr>\n",
       "    </tbody>\n",
       "</table>\n",
       "<p>... (1089 rows omitted)</p>"
      ],
      "text/plain": [
       "country | name      | time | poverty_percent | time_2 | population_total | poverty_total\n",
       "ago     | Angola    | 2000 | 54.31           | 2000   | 15058638         | 8.17835e+06\n",
       "ago     | Angola    | 2009 | 43.37           | 2009   | 20520103         | 8.89957e+06\n",
       "alb     | Albania   | 1996 | 0.2             | 1996   | 3092034          | 6184.07\n",
       "alb     | Albania   | 2002 | 0.73            | 2002   | 3123112          | 22798.7\n",
       "alb     | Albania   | 2004 | 0.53            | 2004   | 3103758          | 16449.9\n",
       "alb     | Albania   | 2005 | 0.44            | 2005   | 3082172          | 13561.6\n",
       "alb     | Albania   | 2008 | 0.2             | 2008   | 2968026          | 5936.05\n",
       "alb     | Albania   | 2012 | 0.46            | 2012   | 2880667          | 13251.1\n",
       "arg     | Argentina | 1986 | 0               | 1986   | 30857242         | 0\n",
       "arg     | Argentina | 1987 | 0               | 1987   | 31326473         | 0\n",
       "... (1089 rows omitted)"
      ]
     },
     "execution_count": 80,
     "metadata": {},
     "output_type": "execute_result"
    }
   ],
   "source": [
    "feet_fungi = foot_fungi.with_columns(\"poverty_total\",poverty_total)\n",
    "feet_fungi"
   ]
  },
  {
   "cell_type": "code",
   "execution_count": 83,
   "metadata": {},
   "outputs": [],
   "source": [
    "def poverty_timeline(country):\n",
    "    '''Draw a timeline of people living in extreme poverty in a country.'''\n",
    "    feet_fungus = feet_fungi.where(\"name\",are.equal_to(country))\n",
    "    return feet_fungus.plot(\"time\",\"poverty_total\")\n",
    "\n",
    "    # This solution will take multiple lines of code. Use as many as you need\n",
    "    ..."
   ]
  },
  {
   "cell_type": "markdown",
   "metadata": {
    "deletable": false,
    "editable": false
   },
   "source": [
    "Finally, draw the timelines below to see how the world is changing. You can check your work by comparing your graphs to the ones on [gapminder.org](https://www.gapminder.org/tools/#$state$entities$show$country$/$in@=ind;;;;&marker$axis_y$which=number_of_people_in_poverty&scaleType=linear&spaceRef:null;;;&chart-type=linechart).\n",
    "\n",
    "<!--\n",
    "BEGIN QUESTION\n",
    "name: q2_6\n",
    "manual: true\n",
    "-->\n",
    "<!-- EXPORT TO PDF -->"
   ]
  },
  {
   "cell_type": "code",
   "execution_count": 84,
   "metadata": {
    "export_pdf": true
   },
   "outputs": [
    {
     "data": {
      "image/png": "[encoded data removed]",
      "text/plain": [
       "<Figure size 432x288 with 1 Axes>"
      ]
     },
     "metadata": {},
     "output_type": "display_data"
    },
    {
     "data": {
      "image/png": "[encoded data removed]",
      "text/plain": [
       "<Figure size 432x288 with 1 Axes>"
      ]
     },
     "metadata": {},
     "output_type": "display_data"
    },
    {
     "data": {
      "image/png": "[encoded data removed]",
      "text/plain": [
       "<Figure size 432x288 with 1 Axes>"
      ]
     },
     "metadata": {},
     "output_type": "display_data"
    },
    {
     "data": {
      "image/png": "[encoded data removed]",
      "text/plain": [
       "<Figure size 432x288 with 1 Axes>"
      ]
     },
     "metadata": {},
     "output_type": "display_data"
    }
   ],
   "source": [
    "poverty_timeline('India')\n",
    "poverty_timeline('Nigeria')\n",
    "poverty_timeline('China')\n",
    "poverty_timeline('United States')"
   ]
  },
  {
   "cell_type": "markdown",
   "metadata": {
    "deletable": false,
    "editable": false
   },
   "source": [
    "Although the number of people living in extreme poverty has been increasing in Nigeria and the United States, the massive decreases in China and India have shaped the overall trend that extreme poverty is decreasing worldwide, both in percentage and in absolute number. \n",
    "\n",
    "To learn more, watch [Hans Rosling in a 2015 film](https://www.gapminder.org/videos/dont-panic-end-poverty/) about the UN goal of eradicating extreme poverty from the world. \n",
    "\n",
    "Below, we've also added an interactive dropdown menu for you to visualize `poverty_timeline` graphs for other countries. Note that each dropdown menu selection may take a few seconds to run."
   ]
  },
  {
   "cell_type": "code",
   "execution_count": 85,
   "metadata": {
    "deletable": false,
    "editable": false
   },
   "outputs": [
    {
     "data": {
      "application/vnd.jupyter.widget-view+json": {
       "model_id": "e4601610d7424996ac8f2a108efc1a69",
       "version_major": 2,
       "version_minor": 0
      },
      "text/plain": [
       "interactive(children=(Dropdown(description='country', options=('Angola', 'Albania', 'Argentina', 'Armenia', 'A…"
      ]
     },
     "metadata": {},
     "output_type": "display_data"
    }
   ],
   "source": [
    "# Just run this cell\n",
    "\n",
    "all_countries = poverty_map.column('name')\n",
    "_ = widgets.interact(poverty_timeline, country=list(all_countries))"
   ]
  },
  {
   "cell_type": "markdown",
   "metadata": {
    "deletable": false,
    "editable": false
   },
   "source": [
    "**You're finished!** Congratulations on mastering data visualization and table manipulation. Time to submit."
   ]
  },
  {
   "cell_type": "markdown",
   "metadata": {},
   "source": [
    "## 3. Submission\n"
   ]
  },
  {
   "cell_type": "markdown",
   "metadata": {
    "collapsed": true
   },
   "source": [
    "Once you're finished, select \"Save and Checkpoint\" in the File menu and then execute the `submit` cell below. The result will contain a link that you can use to check that your assignment has been submitted successfully. If you submit more than once before the deadline, we will only grade your final submission. If you mistakenly submit the wrong one, you can head to [okpy.org](https://okpy.org/) and flag the correct version. To do so, go to the website, click on this assignment, and find the version you would like to have graded. There should be an option to flag that submission for grading!"
   ]
  },
  {
   "cell_type": "code",
   "execution_count": 79,
   "metadata": {},
   "outputs": [
    {
     "data": {
      "application/javascript": [
       "IPython.notebook.save_checkpoint();"
      ],
      "text/plain": [
       "<IPython.core.display.Javascript object>"
      ]
     },
     "metadata": {},
     "output_type": "display_data"
    },
    {
     "data": {
      "application/javascript": [
       "IPython.notebook.save_notebook();"
      ],
      "text/plain": [
       "<IPython.core.display.Javascript object>"
      ]
     },
     "metadata": {},
     "output_type": "display_data"
    },
    {
     "name": "stdout",
     "output_type": "stream",
     "text": [
      "Saving notebook... Saved 'project1.ipynb'.\n",
      "Submit... 100% complete\n",
      "Submission successful for user: angelovergnetti@berkeley.edu\n",
      "URL: https://okpy.org/cal/data8/su20/project1/submissions/OP663B\n",
      "\n"
     ]
    }
   ],
   "source": [
    "_ = ok.submit()"
   ]
  },
  {
   "cell_type": "code",
   "execution_count": 80,
   "metadata": {},
   "outputs": [
    {
     "name": "stdout",
     "output_type": "stream",
     "text": [
      "Running all tests...\n",
      "~~~~~~~~~~~~~~~~~~~~~~~~~~~~~~~~~~~~~~~~~~~~~~~~~~~~~~~~~~~~~~~~~~~~~\n",
      "Running tests\n",
      "\n",
      "---------------------------------------------------------------------\n",
      "Test summary\n",
      "    Passed: 1\n",
      "    Failed: 0\n",
      "[ooooooooook] 100.0% passed\n",
      "\n",
      "~~~~~~~~~~~~~~~~~~~~~~~~~~~~~~~~~~~~~~~~~~~~~~~~~~~~~~~~~~~~~~~~~~~~~\n",
      "Running tests\n",
      "\n",
      "---------------------------------------------------------------------\n",
      "Test summary\n",
      "    Passed: 1\n",
      "    Failed: 0\n",
      "[ooooooooook] 100.0% passed\n",
      "\n",
      "~~~~~~~~~~~~~~~~~~~~~~~~~~~~~~~~~~~~~~~~~~~~~~~~~~~~~~~~~~~~~~~~~~~~~\n",
      "Running tests\n",
      "\n",
      "---------------------------------------------------------------------\n",
      "Test summary\n",
      "    Passed: 3\n",
      "    Failed: 0\n",
      "[ooooooooook] 100.0% passed\n",
      "\n",
      "~~~~~~~~~~~~~~~~~~~~~~~~~~~~~~~~~~~~~~~~~~~~~~~~~~~~~~~~~~~~~~~~~~~~~\n",
      "Running tests\n",
      "\n",
      "---------------------------------------------------------------------\n",
      "Test summary\n",
      "    Passed: 2\n",
      "    Failed: 0\n",
      "[ooooooooook] 100.0% passed\n",
      "\n",
      "~~~~~~~~~~~~~~~~~~~~~~~~~~~~~~~~~~~~~~~~~~~~~~~~~~~~~~~~~~~~~~~~~~~~~\n",
      "Running tests\n",
      "\n",
      "---------------------------------------------------------------------\n",
      "Test summary\n",
      "    Passed: 2\n",
      "    Failed: 0\n",
      "[ooooooooook] 100.0% passed\n",
      "\n",
      "~~~~~~~~~~~~~~~~~~~~~~~~~~~~~~~~~~~~~~~~~~~~~~~~~~~~~~~~~~~~~~~~~~~~~\n",
      "Running tests\n",
      "\n",
      "---------------------------------------------------------------------\n",
      "Test summary\n",
      "    Passed: 2\n",
      "    Failed: 0\n",
      "[ooooooooook] 100.0% passed\n",
      "\n",
      "~~~~~~~~~~~~~~~~~~~~~~~~~~~~~~~~~~~~~~~~~~~~~~~~~~~~~~~~~~~~~~~~~~~~~\n",
      "Running tests\n",
      "\n",
      "---------------------------------------------------------------------\n",
      "Test summary\n",
      "    Passed: 2\n",
      "    Failed: 0\n",
      "[ooooooooook] 100.0% passed\n",
      "\n",
      "~~~~~~~~~~~~~~~~~~~~~~~~~~~~~~~~~~~~~~~~~~~~~~~~~~~~~~~~~~~~~~~~~~~~~\n",
      "Running tests\n",
      "\n",
      "---------------------------------------------------------------------\n",
      "Test summary\n",
      "    Passed: 4\n",
      "    Failed: 0\n",
      "[ooooooooook] 100.0% passed\n",
      "\n",
      "~~~~~~~~~~~~~~~~~~~~~~~~~~~~~~~~~~~~~~~~~~~~~~~~~~~~~~~~~~~~~~~~~~~~~\n",
      "Running tests\n",
      "\n",
      "---------------------------------------------------------------------\n",
      "Test summary\n",
      "    Passed: 1\n",
      "    Failed: 0\n",
      "[ooooooooook] 100.0% passed\n",
      "\n",
      "~~~~~~~~~~~~~~~~~~~~~~~~~~~~~~~~~~~~~~~~~~~~~~~~~~~~~~~~~~~~~~~~~~~~~\n",
      "Running tests\n",
      "\n",
      "---------------------------------------------------------------------\n",
      "Test summary\n",
      "    Passed: 3\n",
      "    Failed: 0\n",
      "[ooooooooook] 100.0% passed\n",
      "\n",
      "~~~~~~~~~~~~~~~~~~~~~~~~~~~~~~~~~~~~~~~~~~~~~~~~~~~~~~~~~~~~~~~~~~~~~\n",
      "Running tests\n",
      "\n",
      "---------------------------------------------------------------------\n",
      "Test summary\n",
      "    Passed: 3\n",
      "    Failed: 0\n",
      "[ooooooooook] 100.0% passed\n",
      "\n",
      "~~~~~~~~~~~~~~~~~~~~~~~~~~~~~~~~~~~~~~~~~~~~~~~~~~~~~~~~~~~~~~~~~~~~~\n",
      "Running tests\n",
      "\n",
      "---------------------------------------------------------------------\n",
      "Test summary\n",
      "    Passed: 2\n",
      "    Failed: 0\n",
      "[ooooooooook] 100.0% passed\n",
      "\n",
      "~~~~~~~~~~~~~~~~~~~~~~~~~~~~~~~~~~~~~~~~~~~~~~~~~~~~~~~~~~~~~~~~~~~~~\n",
      "Running tests\n",
      "\n",
      "---------------------------------------------------------------------\n",
      "Test summary\n",
      "    Passed: 2\n",
      "    Failed: 0\n",
      "[ooooooooook] 100.0% passed\n",
      "\n",
      "~~~~~~~~~~~~~~~~~~~~~~~~~~~~~~~~~~~~~~~~~~~~~~~~~~~~~~~~~~~~~~~~~~~~~\n",
      "Running tests\n",
      "\n",
      "---------------------------------------------------------------------\n",
      "Test summary\n",
      "    Passed: 3\n",
      "    Failed: 0\n",
      "[ooooooooook] 100.0% passed\n",
      "\n",
      "~~~~~~~~~~~~~~~~~~~~~~~~~~~~~~~~~~~~~~~~~~~~~~~~~~~~~~~~~~~~~~~~~~~~~\n",
      "Running tests\n",
      "\n",
      "---------------------------------------------------------------------\n",
      "Test summary\n",
      "    Passed: 2\n",
      "    Failed: 0\n",
      "[ooooooooook] 100.0% passed\n",
      "\n",
      "Finished running all tests.\n"
     ]
    }
   ],
   "source": [
    "# For your convenience, you can run this cell to run all the tests at once!\n",
    "import os\n",
    "print(\"Running all tests...\")\n",
    "_ = [ok.grade(q[:-3]) for q in os.listdir(\"tests\") if q.startswith('q') and len(q) <= 10]\n",
    "print(\"Finished running all tests.\")"
   ]
  }
 ],
 "metadata": {
  "kernelspec": {
   "display_name": "Python 3 (ipykernel)",
   "language": "python",
   "name": "python3"
  },
  "language_info": {
   "codemirror_mode": {
    "name": "ipython",
    "version": 3
   },
   "file_extension": ".py",
   "mimetype": "text/x-python",
   "name": "python",
   "nbconvert_exporter": "python",
   "pygments_lexer": "ipython3",
   "version": "3.9.7"
  }
 },
 "nbformat": 4,
 "nbformat_minor": 1
}
